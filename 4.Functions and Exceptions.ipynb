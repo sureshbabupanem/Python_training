{
 "cells": [
  {
   "cell_type": "markdown",
   "metadata": {},
   "source": [
    "##### Functions\n",
    "\n",
    "A function is a block of organized, reusable code that is used to perform a single, related action. ... Different programming languages name them differently, for example, functions, methods, sub-routines, procedures, etc.\n",
    "\n",
    "\n",
    "## Advantages:\n",
    "\n",
    "- Makes your code more organized and manageable.\n",
    "- Brings code reusability.\n",
    "\n",
    "## Function Syantax:\n",
    "```\n",
    "def <function name>([parameters]):\n",
    "    '''Doc string'''\n",
    "    Logic/statements\n",
    "    ...\n",
    "    ...\n",
    "    return value/print(value)\n",
    "```\n",
    "**def** - marks the start of the function header.\\\n",
    "**function name** - a unique name to idenfity the function, this naming follows the same checklist we learnt in variable naming.\\\n",
    "**parameters/arguments** - used to pass a value to the function while calling. These are optional.\\\n",
    "**Doc String** - a short description about the function. This is optional.\\\n",
    "**Logic/statements** - one or more valid python statements to perform the required task.\\\n",
    "**retrun** - this will return a value from the funxtion. Optional.\\\n",
    "**print** - to display a value from the fucntion. Optional.\n"
   ]
  },
  {
   "cell_type": "code",
   "execution_count": 1,
   "metadata": {},
   "outputs": [],
   "source": [
    "# defining a fuction\n",
    "def summ(a,b):\n",
    "    c=a+b\n",
    "    #print(c)\n",
    "    return(c)"
   ]
  },
  {
   "cell_type": "code",
   "execution_count": 2,
   "metadata": {},
   "outputs": [
    {
     "data": {
      "text/plain": [
       "30"
      ]
     },
     "execution_count": 2,
     "metadata": {},
     "output_type": "execute_result"
    }
   ],
   "source": [
    "# Calling a function\n",
    "summ(10,20)"
   ]
  },
  {
   "cell_type": "code",
   "execution_count": null,
   "metadata": {},
   "outputs": [],
   "source": [
    "result=summ(10,20)\n",
    "print(result)"
   ]
  },
  {
   "cell_type": "markdown",
   "metadata": {},
   "source": [
    "##### function Arguments\n",
    "1. Required Argumnents \n",
    "2. Keyword Argumnents \n",
    "3. Default Argumenst \n",
    "4. Variable length Argumnents\n"
   ]
  },
  {
   "cell_type": "code",
   "execution_count": null,
   "metadata": {
    "colab": {
     "base_uri": "https://localhost:8080/",
     "height": 34
    },
    "id": "mehb1BXLO2Kf",
    "outputId": "374913da-9059-4171-d45d-1e7497c31259"
   },
   "outputs": [
    {
     "data": {
      "text/plain": [
       "30"
      ]
     },
     "execution_count": 15,
     "metadata": {
      "tags": []
     },
     "output_type": "execute_result"
    }
   ],
   "source": [
    "# Required Arguments \n",
    "summ(10,20)"
   ]
  },
  {
   "cell_type": "code",
   "execution_count": null,
   "metadata": {
    "colab": {
     "base_uri": "https://localhost:8080/",
     "height": 34
    },
    "id": "kfajV2hlO8sp",
    "outputId": "3e2ed063-7183-41be-bae3-68de34d6c8ed"
   },
   "outputs": [
    {
     "data": {
      "text/plain": [
       "30"
      ]
     },
     "execution_count": 16,
     "metadata": {
      "tags": []
     },
     "output_type": "execute_result"
    }
   ],
   "source": [
    "# keyword Arguments\n",
    "summ(b=10,a=20)"
   ]
  },
  {
   "cell_type": "code",
   "execution_count": null,
   "metadata": {
    "id": "Y_nrwwWPPC0Y"
   },
   "outputs": [],
   "source": [
    "# Default Arguments\n",
    "def printinfo( name,age = 35 ):\n",
    "   #\"This prints a passed info into this function\"\n",
    "    print (\"Name: \", name)\n",
    "    print (\"Age \", age)\n",
    "    return;"
   ]
  },
  {
   "cell_type": "code",
   "execution_count": null,
   "metadata": {
    "colab": {
     "base_uri": "https://localhost:8080/",
     "height": 51
    },
    "id": "9lqWUEv0UHgu",
    "outputId": "9659dc6d-bbd1-4e79-b930-8efc6d927ac4"
   },
   "outputs": [
    {
     "name": "stdout",
     "output_type": "stream",
     "text": [
      "Name:  Data Science\n",
      "Age  35\n"
     ]
    }
   ],
   "source": [
    "printinfo(\"Data Science\")\n"
   ]
  },
  {
   "cell_type": "code",
   "execution_count": null,
   "metadata": {
    "colab": {
     "base_uri": "https://localhost:8080/",
     "height": 51
    },
    "id": "ce8eKkxCPJPL",
    "outputId": "63f15611-101d-44be-cb1f-41ecb80a1043"
   },
   "outputs": [
    {
     "name": "stdout",
     "output_type": "stream",
     "text": [
      "Name:  Data Science\n",
      "Age  50\n"
     ]
    }
   ],
   "source": [
    "printinfo(\"Data Science\",50)\n"
   ]
  },
  {
   "cell_type": "code",
   "execution_count": null,
   "metadata": {
    "id": "A6ZRqiI9PMkn"
   },
   "outputs": [],
   "source": [
    "printinfo(\"Data Science\") # Age is assumed to  be a default Argument  "
   ]
  },
  {
   "cell_type": "code",
   "execution_count": 3,
   "metadata": {
    "id": "vW4K97olPQbq"
   },
   "outputs": [],
   "source": [
    "# Variable Length Arguments\n",
    "def varlen( arg1, *vartuple ):\n",
    "   \n",
    "      print (\"Output is: \")\n",
    "      print (\"arg1 is:\",arg1)\n",
    "      # for var in vartuple:\n",
    "      print(\"Var tuple is:\",vartuple)\n",
    "      return;\n",
    "   "
   ]
  },
  {
   "cell_type": "code",
   "execution_count": 4,
   "metadata": {
    "colab": {
     "base_uri": "https://localhost:8080/",
     "height": 68
    },
    "id": "EBRCC5cEPbEM",
    "outputId": "535bebc4-7065-4938-d641-39620938d32e",
    "scrolled": true
   },
   "outputs": [
    {
     "name": "stdout",
     "output_type": "stream",
     "text": [
      "Output is: \n",
      "arg1 is: 10\n",
      "Var tuple is: (1, 2, 3, 4, 5)\n"
     ]
    }
   ],
   "source": [
    "varlen(10,1,2,3,4,5)"
   ]
  },
  {
   "cell_type": "markdown",
   "metadata": {},
   "source": [
    "##### Keyword Arguments - kwarg"
   ]
  },
  {
   "cell_type": "code",
   "execution_count": null,
   "metadata": {},
   "outputs": [],
   "source": [
    "def func(var, **kwarg):\n",
    "    print (var)\n",
    "    print (kwarg)\n",
    "\n",
    "# func()\n",
    "func('var value', a=1,b=2)"
   ]
  },
  {
   "cell_type": "markdown",
   "metadata": {
    "id": "-9VYCnIXIwiS"
   },
   "source": [
    "#### Lambda Fucntion(Ananymous)\n",
    "Lambda functions are used when you need a function for a short period of time. This is commonly used when you want to pass a function as an argument to higher-order functions, that is, functions that take other functions as their arguments.\n",
    "* Syntax: lambda [arg1 [,arg2,.....argn]]:expression"
   ]
  },
  {
   "cell_type": "code",
   "execution_count": 7,
   "metadata": {
    "colab": {
     "base_uri": "https://localhost:8080/",
     "height": 34
    },
    "id": "OPyDq6ZqRAER",
    "outputId": "5c1f20fe-f5d3-45dc-e5a9-8f2815b3ae50"
   },
   "outputs": [
    {
     "data": {
      "text/plain": [
       "30"
      ]
     },
     "execution_count": 7,
     "metadata": {},
     "output_type": "execute_result"
    }
   ],
   "source": [
    "def add(x, y):\n",
    "    return x + y\n",
    "\n",
    "add(10,20)"
   ]
  },
  {
   "cell_type": "code",
   "execution_count": 9,
   "metadata": {},
   "outputs": [
    {
     "data": {
      "text/plain": [
       "30"
      ]
     },
     "execution_count": 9,
     "metadata": {},
     "output_type": "execute_result"
    }
   ],
   "source": [
    "(lambda x, y: x + y)(10, 20)"
   ]
  },
  {
   "cell_type": "markdown",
   "metadata": {},
   "source": [
    "##### Filter Functions\n",
    "Filter() function takes a function as the first argument and the list as the second argument to which we want to apply a filtering function"
   ]
  },
  {
   "cell_type": "code",
   "execution_count": 10,
   "metadata": {},
   "outputs": [
    {
     "name": "stdout",
     "output_type": "stream",
     "text": [
      "[4, 6, 8, 12]\n"
     ]
    }
   ],
   "source": [
    "my_list = [1, 5, 4, 6, 8, 11, 3, 12]\n",
    "\n",
    "new_list = list(filter(lambda x: (x%2 == 0) , my_list))\n",
    "print(new_list)\n"
   ]
  },
  {
   "cell_type": "markdown",
   "metadata": {},
   "source": [
    "##### Map and Reduce Functions\n",
    "Map applies a function to all the items in an input_list.\n",
    "\n",
    "map(function_to_apply, list_of_inputs)"
   ]
  },
  {
   "cell_type": "code",
   "execution_count": 11,
   "metadata": {},
   "outputs": [
    {
     "data": {
      "text/plain": [
       "[1, 4, 9, 16, 25]"
      ]
     },
     "execution_count": 11,
     "metadata": {},
     "output_type": "execute_result"
    }
   ],
   "source": [
    "def square_all_numbers(numb_list):\n",
    "    results = []\n",
    "    for num in numb_list:\n",
    "        results.append(num**2)\n",
    "    return results\n",
    "square_all_numbers([1,2,3,4,5])"
   ]
  },
  {
   "cell_type": "code",
   "execution_count": 12,
   "metadata": {},
   "outputs": [
    {
     "name": "stdout",
     "output_type": "stream",
     "text": [
      "[1, 4, 9, 16, 25]\n"
     ]
    }
   ],
   "source": [
    "items = [1, 2, 3, 4, 5]\n",
    "squared = list(map(lambda x: x**2, items))\n",
    "print (squared)"
   ]
  },
  {
   "cell_type": "markdown",
   "metadata": {},
   "source": [
    "##### Reduce is a really useful function for performing some computation on a list and returning the result. It applies a rolling computation to sequential pairs of values in a list. For example, if you wanted to compute the product of a list of integers."
   ]
  },
  {
   "cell_type": "code",
   "execution_count": 13,
   "metadata": {},
   "outputs": [
    {
     "name": "stdout",
     "output_type": "stream",
     "text": [
      "120\n"
     ]
    }
   ],
   "source": [
    "product = 1\n",
    "lst = [1, 2, 3, 4, 5]\n",
    "for num in lst:\n",
    "    product = product * num\n",
    "print (product)"
   ]
  },
  {
   "cell_type": "code",
   "execution_count": 14,
   "metadata": {},
   "outputs": [
    {
     "data": {
      "text/plain": [
       "120"
      ]
     },
     "execution_count": 14,
     "metadata": {},
     "output_type": "execute_result"
    }
   ],
   "source": [
    "from functools import reduce\n",
    "\n",
    "product = reduce((lambda x, y: x * y), [1, 2, 3, 4, 5])\n",
    "product"
   ]
  },
  {
   "cell_type": "markdown",
   "metadata": {
    "id": "QIDCrIekI4RL"
   },
   "source": [
    "#### Recursive Function\n",
    "* Function Calling a function itself"
   ]
  },
  {
   "cell_type": "code",
   "execution_count": null,
   "metadata": {
    "id": "Kt2z6XvNRfVo"
   },
   "outputs": [],
   "source": [
    "# Normal function to alculat factorial\n",
    "#n=1\n",
    "def fact(n):\n",
    "    \n",
    "    if(n<0):\n",
    "        return(\"enter valid n value\")\n",
    "    \n",
    "    if(n==1 or n==0 ):    \n",
    "        return 1\n",
    "    \n",
    "    else:\n",
    "        for  i  in range(1,n):     \n",
    "            n=n*i\n",
    "    return(n)"
   ]
  },
  {
   "cell_type": "code",
   "execution_count": null,
   "metadata": {
    "colab": {
     "base_uri": "https://localhost:8080/",
     "height": 34
    },
    "id": "wLdyicllRkWF",
    "outputId": "2c82861c-ae37-446b-860e-72837b3c79f6"
   },
   "outputs": [
    {
     "data": {
      "text/plain": [
       "120"
      ]
     },
     "execution_count": 3,
     "metadata": {
      "tags": []
     },
     "output_type": "execute_result"
    }
   ],
   "source": [
    "fact(5)"
   ]
  },
  {
   "cell_type": "code",
   "execution_count": 5,
   "metadata": {
    "id": "lurv2xG4RjHf"
   },
   "outputs": [],
   "source": [
    "# Recursive function to calculate Factorial ofthe number\n",
    "def rec_fact(n):\n",
    "    if(n==1 or n==0):\n",
    "        return 1\n",
    "    else:\n",
    "        fact=n*rec_fact(n-1)\n",
    "           \n",
    "    return(fact)"
   ]
  },
  {
   "cell_type": "code",
   "execution_count": null,
   "metadata": {
    "colab": {
     "base_uri": "https://localhost:8080/",
     "height": 34
    },
    "id": "q1uh1WSXRlT_",
    "outputId": "f1443ce5-4c97-462c-be5d-8a14126a650a"
   },
   "outputs": [
    {
     "data": {
      "text/plain": [
       "120"
      ]
     },
     "execution_count": 34,
     "metadata": {
      "tags": []
     },
     "output_type": "execute_result"
    }
   ],
   "source": [
    "rec_fact(5)"
   ]
  },
  {
   "cell_type": "markdown",
   "metadata": {
    "id": "JMpgpNiqRt9x"
   },
   "source": [
    "# Scope of variables\n",
    "* Global Variable\n",
    "* Local Variable"
   ]
  },
  {
   "cell_type": "code",
   "execution_count": 17,
   "metadata": {
    "id": "cS2-H1xaR3QL"
   },
   "outputs": [],
   "source": [
    "# Local Variable and Global Variable\n",
    "#print(global_var)\n",
    "global_var=100 # Global Variable\n",
    "def Function(a):\n",
    "    loc_var=10  # Local Varaible\n",
    "    print(\"Local Varible\",loc_var)\n",
    "    print(\"Gloabal Varible\",global_var)"
   ]
  },
  {
   "cell_type": "code",
   "execution_count": 18,
   "metadata": {
    "colab": {
     "base_uri": "https://localhost:8080/",
     "height": 34
    },
    "id": "xrAogpDKR60K",
    "outputId": "9423d990-a97f-4f5e-f8b7-31fc4fd848b4"
   },
   "outputs": [
    {
     "name": "stdout",
     "output_type": "stream",
     "text": [
      "Local Varible 10\n",
      "Gloabal Varible 100\n"
     ]
    }
   ],
   "source": [
    "Function(10)"
   ]
  },
  {
   "cell_type": "code",
   "execution_count": 19,
   "metadata": {
    "colab": {
     "base_uri": "https://localhost:8080/",
     "height": 34
    },
    "id": "MvOqGnJSSgPT",
    "outputId": "5464f462-edba-4c85-f752-aaaab472f78e"
   },
   "outputs": [
    {
     "name": "stdout",
     "output_type": "stream",
     "text": [
      "100\n"
     ]
    }
   ],
   "source": [
    "\n",
    "print(global_var)"
   ]
  },
  {
   "cell_type": "code",
   "execution_count": 20,
   "metadata": {
    "colab": {
     "base_uri": "https://localhost:8080/",
     "height": 163
    },
    "id": "fuJuG33ASSjt",
    "outputId": "7233487c-2010-4eb8-861d-8bf787d264a9"
   },
   "outputs": [
    {
     "ename": "NameError",
     "evalue": "name 'loc_var' is not defined",
     "output_type": "error",
     "traceback": [
      "\u001b[1;31m---------------------------------------------------------------------------\u001b[0m",
      "\u001b[1;31mNameError\u001b[0m                                 Traceback (most recent call last)",
      "\u001b[1;32m<ipython-input-20-eaffc662fea4>\u001b[0m in \u001b[0;36m<module>\u001b[1;34m\u001b[0m\n\u001b[1;32m----> 1\u001b[1;33m \u001b[0mprint\u001b[0m\u001b[1;33m(\u001b[0m\u001b[0mloc_var\u001b[0m\u001b[1;33m)\u001b[0m \u001b[1;31m# Scope of this varaible is within  fuction only\u001b[0m\u001b[1;33m\u001b[0m\u001b[1;33m\u001b[0m\u001b[0m\n\u001b[0m",
      "\u001b[1;31mNameError\u001b[0m: name 'loc_var' is not defined"
     ]
    }
   ],
   "source": [
    "print(loc_var) # Scope of this varaible is within  fuction only"
   ]
  },
  {
   "cell_type": "code",
   "execution_count": 21,
   "metadata": {
    "colab": {
     "base_uri": "https://localhost:8080/",
     "height": 34
    },
    "id": "zgUFds3ZR6pG",
    "outputId": "8d2f7086-70a1-4a11-aa29-32fab274089f",
    "scrolled": false
   },
   "outputs": [
    {
     "name": "stdout",
     "output_type": "stream",
     "text": [
      "100\n"
     ]
    }
   ],
   "source": [
    "print(global_var) # Scope of this is  outside the function also"
   ]
  },
  {
   "cell_type": "code",
   "execution_count": 1,
   "metadata": {},
   "outputs": [],
   "source": [
    "\n",
    "def function():\n",
    "    global local_variable # Make a local variable as gloabl\n",
    "    local_variable=10\n",
    "    print(local_variable)\n"
   ]
  },
  {
   "cell_type": "code",
   "execution_count": 2,
   "metadata": {},
   "outputs": [
    {
     "name": "stdout",
     "output_type": "stream",
     "text": [
      "10\n"
     ]
    }
   ],
   "source": [
    "function()"
   ]
  },
  {
   "cell_type": "code",
   "execution_count": 3,
   "metadata": {},
   "outputs": [
    {
     "name": "stdout",
     "output_type": "stream",
     "text": [
      "10\n"
     ]
    }
   ],
   "source": [
    "print(local_variable)"
   ]
  },
  {
   "cell_type": "markdown",
   "metadata": {},
   "source": [
    "##### Exception handling"
   ]
  },
  {
   "cell_type": "code",
   "execution_count": 22,
   "metadata": {
    "colab": {
     "base_uri": "https://localhost:8080/",
     "height": 34
    },
    "id": "yfib7kB7Yyxc",
    "outputId": "e36221cd-20a6-4f2d-d7b8-401e19086a60"
   },
   "outputs": [
    {
     "name": "stdout",
     "output_type": "stream",
     "text": [
      "try blck success\n"
     ]
    }
   ],
   "source": [
    "try :\n",
    "  import numpy as np\n",
    "  import math \n",
    "  import pandas\n",
    "  #import pandas1 as p\n",
    "  print(\"try blck success\")\n",
    "except:\n",
    "  print(\"error occured ,please try after some time\")"
   ]
  },
  {
   "cell_type": "code",
   "execution_count": 23,
   "metadata": {
    "colab": {
     "base_uri": "https://localhost:8080/",
     "height": 299
    },
    "id": "-DBuhZgcRAdo",
    "outputId": "de1bf99b-c188-4733-de0e-753232b47b1d"
   },
   "outputs": [
    {
     "ename": "ModuleNotFoundError",
     "evalue": "No module named 'pandas1'",
     "output_type": "error",
     "traceback": [
      "\u001b[1;31m---------------------------------------------------------------------------\u001b[0m",
      "\u001b[1;31mModuleNotFoundError\u001b[0m                       Traceback (most recent call last)",
      "\u001b[1;32m<ipython-input-23-83d2a2dbfbf8>\u001b[0m in \u001b[0;36m<module>\u001b[1;34m\u001b[0m\n\u001b[1;32m----> 1\u001b[1;33m \u001b[1;32mimport\u001b[0m \u001b[0mpandas1\u001b[0m \u001b[1;32mas\u001b[0m \u001b[0mp\u001b[0m\u001b[1;33m\u001b[0m\u001b[1;33m\u001b[0m\u001b[0m\n\u001b[0m",
      "\u001b[1;31mModuleNotFoundError\u001b[0m: No module named 'pandas1'"
     ]
    }
   ],
   "source": [
    " import pandas1 as p"
   ]
  },
  {
   "cell_type": "code",
   "execution_count": 24,
   "metadata": {
    "colab": {
     "base_uri": "https://localhost:8080/",
     "height": 34
    },
    "id": "GeXVb42mZsjv",
    "outputId": "dd9b7a6d-b79d-4128-bd85-8931f0bb509d"
   },
   "outputs": [
    {
     "name": "stdout",
     "output_type": "stream",
     "text": [
      "No module named 'pandas1'\n"
     ]
    }
   ],
   "source": [
    "try :\n",
    "  import pandas1 as pd\n",
    "  print(\"try blck success\")\n",
    "except Exception as err:\n",
    "  print(err)\n",
    "  #print(\"error occured ,please try after some time\")"
   ]
  }
 ],
 "metadata": {
  "kernelspec": {
   "display_name": "Python 3",
   "language": "python",
   "name": "python3"
  },
  "language_info": {
   "codemirror_mode": {
    "name": "ipython",
    "version": 3
   },
   "file_extension": ".py",
   "mimetype": "text/x-python",
   "name": "python",
   "nbconvert_exporter": "python",
   "pygments_lexer": "ipython3",
   "version": "3.6.5"
  }
 },
 "nbformat": 4,
 "nbformat_minor": 4
}
