{
 "cells": [
  {
   "cell_type": "markdown",
   "metadata": {},
   "source": [
    "##### In Python, a file operation takes place in the following order:\n",
    "\n",
    ">* Open a file\n",
    ">* Read or Write\n",
    ">* Close the file\n",
    ">* The key function to work with files in Python is **open()** function.\n",
    ">* open() function takes filepath as parameter. Another parameter, mode is optional, but has additional options.\n",
    ">* Syntax of open() -\n",
    " - fileobject = open(filepath, mode = 'r')"
   ]
  },
  {
   "cell_type": "markdown",
   "metadata": {},
   "source": [
    "##### Different options with mode\n",
    "- r - Opens a file for reading only. (need not to specify explicityly, because this is the default option). If the file is not available, throws 'FileNotFoundError'.\n",
    "- w - Opens a file for writing the data. If a files does not exists, then it will create the file. If available then it clears the content of the file.\n",
    "- x - Creates the file, throws an error if the file already exists.\n",
    "- a - Opens a file appending the data at the end of the file without truncating the existing data. If a files does not exists, then it will create the file.\n",
    "\n",
    ">* **In addition to the above, we can specify the below options:** \n",
    ">* t - Opens the file in the text mode. (Default)\n",
    ">* b - Opens the file in binary mode. (used for non-text files like images)."
   ]
  },
  {
   "cell_type": "code",
   "execution_count": 1,
   "metadata": {},
   "outputs": [],
   "source": [
    "filepath = r'.\\testfile.txt'"
   ]
  },
  {
   "cell_type": "code",
   "execution_count": 2,
   "metadata": {},
   "outputs": [
    {
     "ename": "FileNotFoundError",
     "evalue": "[Errno 2] No such file or directory: '.\\\\testfile.txt'",
     "output_type": "error",
     "traceback": [
      "\u001b[1;31m---------------------------------------------------------------------------\u001b[0m",
      "\u001b[1;31mFileNotFoundError\u001b[0m                         Traceback (most recent call last)",
      "\u001b[1;32m<ipython-input-2-09e6d4fad518>\u001b[0m in \u001b[0;36m<module>\u001b[1;34m\u001b[0m\n\u001b[1;32m----> 1\u001b[1;33m \u001b[0mfo\u001b[0m \u001b[1;33m=\u001b[0m \u001b[0mopen\u001b[0m\u001b[1;33m(\u001b[0m\u001b[0mfilepath\u001b[0m\u001b[1;33m)\u001b[0m\u001b[1;33m\u001b[0m\u001b[1;33m\u001b[0m\u001b[0m\n\u001b[0m",
      "\u001b[1;31mFileNotFoundError\u001b[0m: [Errno 2] No such file or directory: '.\\\\testfile.txt'"
     ]
    }
   ],
   "source": [
    "fo = open(filepath)"
   ]
  },
  {
   "cell_type": "code",
   "execution_count": 3,
   "metadata": {},
   "outputs": [],
   "source": [
    "# Create a file Mode='x' will create a new file \n",
    "\n",
    "fo = open(filepath, mode = 'x')"
   ]
  },
  {
   "cell_type": "code",
   "execution_count": 4,
   "metadata": {},
   "outputs": [
    {
     "ename": "FileExistsError",
     "evalue": "[Errno 17] File exists: '.\\\\testfile.txt'",
     "output_type": "error",
     "traceback": [
      "\u001b[1;31m---------------------------------------------------------------------------\u001b[0m",
      "\u001b[1;31mFileExistsError\u001b[0m                           Traceback (most recent call last)",
      "\u001b[1;32m<ipython-input-4-56aa87abe177>\u001b[0m in \u001b[0;36m<module>\u001b[1;34m\u001b[0m\n\u001b[0;32m      1\u001b[0m \u001b[1;31m# try creating the same file again using mode = x\u001b[0m\u001b[1;33m\u001b[0m\u001b[1;33m\u001b[0m\u001b[1;33m\u001b[0m\u001b[0m\n\u001b[0;32m      2\u001b[0m \u001b[1;33m\u001b[0m\u001b[0m\n\u001b[1;32m----> 3\u001b[1;33m \u001b[0mfo\u001b[0m \u001b[1;33m=\u001b[0m \u001b[0mopen\u001b[0m\u001b[1;33m(\u001b[0m\u001b[0mfilepath\u001b[0m\u001b[1;33m,\u001b[0m \u001b[0mmode\u001b[0m \u001b[1;33m=\u001b[0m \u001b[1;34m'x'\u001b[0m\u001b[1;33m)\u001b[0m\u001b[1;33m\u001b[0m\u001b[1;33m\u001b[0m\u001b[0m\n\u001b[0m",
      "\u001b[1;31mFileExistsError\u001b[0m: [Errno 17] File exists: '.\\\\testfile.txt'"
     ]
    }
   ],
   "source": [
    "# try creating the same file again using mode = x\n",
    "\n",
    "fo = open(filepath, mode = 'x')"
   ]
  },
  {
   "cell_type": "markdown",
   "metadata": {},
   "source": [
    "##### Close a file"
   ]
  },
  {
   "cell_type": "code",
   "execution_count": 5,
   "metadata": {},
   "outputs": [],
   "source": [
    "fo.close()"
   ]
  },
  {
   "cell_type": "markdown",
   "metadata": {},
   "source": [
    "##### Write to a file"
   ]
  },
  {
   "cell_type": "code",
   "execution_count": 6,
   "metadata": {},
   "outputs": [],
   "source": [
    "fo = open(filepath, mode='w')\n",
    "fo.write('''Python is an interpreted, high-level and general-purpose programming language. \n",
    "Created by Guido van Rossum and first released in 1991, Python's design philosophy emphasizes code readability with its notable use of significant whitespace. \n",
    "Its language constructs and object-oriented approach aim to help programmers write clear, logical code for small and large-scale projects.''')\n",
    "fo.close()"
   ]
  },
  {
   "cell_type": "code",
   "execution_count": 7,
   "metadata": {},
   "outputs": [],
   "source": [
    "fo = open(filepath, mode='w')\n",
    "fo.write('''Python is an interpreted, high-level and general-purpose programming language. \n",
    "Created by Guido van Rossum and first released in 1991, Python's design philosophy emphasizes code readability with its notable use of significant whitespace. \n",
    "Its language constructs and object-oriented approach aim to help programmers write clear, logical code for small and large-scale projects.''')\n",
    "fo.close()"
   ]
  },
  {
   "cell_type": "markdown",
   "metadata": {},
   "source": [
    "##### Append mode"
   ]
  },
  {
   "cell_type": "code",
   "execution_count": 8,
   "metadata": {},
   "outputs": [],
   "source": [
    "fo = open(filepath, mode='a')"
   ]
  },
  {
   "cell_type": "code",
   "execution_count": 9,
   "metadata": {},
   "outputs": [],
   "source": [
    "fo.write('''Python is an interpreted, high-level and general-purpose programming language. \n",
    "Created by Guido van Rossum and first released in 1991, Python's design philosophy emphasizes code readability with its notable use of significant whitespace. \n",
    "Its language constructs and object-oriented approach aim to help programmers write clear, logical code for small and large-scale projects.''')\n",
    "\n",
    "fo.close()"
   ]
  },
  {
   "cell_type": "code",
   "execution_count": 25,
   "metadata": {},
   "outputs": [],
   "source": [
    "# with csv\n",
    "\n",
    "filepath2 = r'.\\contents.csv'"
   ]
  },
  {
   "cell_type": "code",
   "execution_count": 26,
   "metadata": {},
   "outputs": [],
   "source": [
    "fo = open(filepath2, mode = 'a')"
   ]
  },
  {
   "cell_type": "code",
   "execution_count": 30,
   "metadata": {},
   "outputs": [],
   "source": [
    "fo = open(filepath2, mode = 'a')\n",
    "\n",
    "fo.write('''Contents\n",
    "1 Python\n",
    "2 Data structures\n",
    "3 Functions\n",
    "''')\n",
    "\n",
    "fo.close()"
   ]
  },
  {
   "cell_type": "code",
   "execution_count": 31,
   "metadata": {},
   "outputs": [],
   "source": [
    "filepath3 = r'.\\contents.xlsx'\n",
    "\n",
    "fo = open(filepath3, mode = 'a')\n",
    "\n",
    "fo.write('''Contents\n",
    "1 Python\n",
    "2 Data structures\n",
    "3 Functions\n",
    "''')\n",
    "\n",
    "fo.close()"
   ]
  },
  {
   "cell_type": "markdown",
   "metadata": {},
   "source": [
    "##### Using with"
   ]
  },
  {
   "cell_type": "code",
   "execution_count": 32,
   "metadata": {},
   "outputs": [
    {
     "name": "stdout",
     "output_type": "stream",
     "text": [
      "Contents\n",
      "1 Python\n",
      "2 Data structures\n",
      "3 Functions\n",
      "Contents\n",
      "1 Python\n",
      "2 Data structures\n",
      "3 Functions\n",
      "Contents\n",
      "1 Python\n",
      "2 Data structures\n",
      "3 Functions\n",
      "Contents\n",
      "1 Python\n",
      "2 Data structures\n",
      "3 Functions\n",
      "\n"
     ]
    }
   ],
   "source": [
    "with open(filepath2) as fo:\n",
    "    print(fo.read())\n",
    "\n",
    "# read() mode retruns the entire text from your file"
   ]
  },
  {
   "cell_type": "code",
   "execution_count": 33,
   "metadata": {},
   "outputs": [
    {
     "name": "stdout",
     "output_type": "stream",
     "text": [
      "Contents\n",
      "1 Python\n",
      "2 Data \n"
     ]
    }
   ],
   "source": [
    "with open(filepath2) as fo:\n",
    "    print(fo.read(25)) # returns 25 places from the start"
   ]
  },
  {
   "cell_type": "markdown",
   "metadata": {},
   "source": [
    "##### readline()"
   ]
  },
  {
   "cell_type": "code",
   "execution_count": 34,
   "metadata": {},
   "outputs": [
    {
     "name": "stdout",
     "output_type": "stream",
     "text": [
      "Contents\n",
      "\n"
     ]
    }
   ],
   "source": [
    "with open(filepath2) as fo:\n",
    "    print(fo.readline())"
   ]
  },
  {
   "cell_type": "code",
   "execution_count": 35,
   "metadata": {},
   "outputs": [
    {
     "name": "stdout",
     "output_type": "stream",
     "text": [
      "Contents\n",
      "\n",
      "1 Python\n",
      "\n"
     ]
    }
   ],
   "source": [
    "with open(filepath2) as fo:\n",
    "    print(fo.readline())\n",
    "    print(fo.readline())\n"
   ]
  },
  {
   "cell_type": "markdown",
   "metadata": {},
   "source": [
    "##### readlines()"
   ]
  },
  {
   "cell_type": "code",
   "execution_count": 40,
   "metadata": {},
   "outputs": [],
   "source": [
    "# readlines saves the content into a list\n",
    "\n",
    "with open(filepath2) as fo:\n",
    "    data = fo.readlines()"
   ]
  },
  {
   "cell_type": "code",
   "execution_count": 42,
   "metadata": {},
   "outputs": [
    {
     "name": "stdout",
     "output_type": "stream",
     "text": [
      "['Contents\\n', '1 Python\\n', '2 Data structures\\n', '3 Functions\\n', 'Contents\\n', '1 Python\\n', '2 Data structures\\n', '3 Functions\\n', 'Contents\\n', '1 Python\\n', '2 Data structures\\n', '3 Functions\\n', 'Contents\\n', '1 Python\\n', '2 Data structures\\n', '3 Functions\\n']\n"
     ]
    }
   ],
   "source": [
    "print(data)"
   ]
  },
  {
   "cell_type": "code",
   "execution_count": 43,
   "metadata": {},
   "outputs": [],
   "source": [
    "cleaned_data = []\n",
    "\n",
    "for x in data:    \n",
    "    cleaned_data.append(x.replace('\\n','').replace('\\t','.'))"
   ]
  },
  {
   "cell_type": "code",
   "execution_count": 44,
   "metadata": {},
   "outputs": [
    {
     "name": "stdout",
     "output_type": "stream",
     "text": [
      "['Contents', '1 Python', '2 Data structures', '3 Functions', 'Contents', '1 Python', '2 Data structures', '3 Functions', 'Contents', '1 Python', '2 Data structures', '3 Functions', 'Contents', '1 Python', '2 Data structures', '3 Functions']\n"
     ]
    }
   ],
   "source": [
    "print(cleaned_data)"
   ]
  },
  {
   "cell_type": "markdown",
   "metadata": {},
   "source": [
    "##### Date & Time in Python\n",
    ">* Python has a module names datetime to work with date and time.\n",
    "\n",
    "- Frequently use classes from datetime module are:\n",
    "\n",
    "- date\n",
    "- time\n",
    "- datetime\n",
    "- timedelta"
   ]
  },
  {
   "cell_type": "code",
   "execution_count": 45,
   "metadata": {},
   "outputs": [],
   "source": [
    "# import the module\n",
    "\n",
    "import datetime as dt"
   ]
  },
  {
   "cell_type": "code",
   "execution_count": 47,
   "metadata": {},
   "outputs": [
    {
     "name": "stdout",
     "output_type": "stream",
     "text": [
      "2020-10-28\n"
     ]
    }
   ],
   "source": [
    "print(dt.date.today())   # Todays Date"
   ]
  },
  {
   "cell_type": "code",
   "execution_count": 48,
   "metadata": {},
   "outputs": [],
   "source": [
    " #import classes from the datetime module\n",
    "\n",
    "from datetime import date, time, datetime, timedelta"
   ]
  },
  {
   "cell_type": "code",
   "execution_count": 49,
   "metadata": {},
   "outputs": [],
   "source": [
    "# Get today's date\n",
    "\n",
    "i = date.today()"
   ]
  },
  {
   "cell_type": "code",
   "execution_count": 50,
   "metadata": {},
   "outputs": [
    {
     "name": "stdout",
     "output_type": "stream",
     "text": [
      "2020-10-28\n"
     ]
    }
   ],
   "source": [
    "print(i)"
   ]
  },
  {
   "cell_type": "code",
   "execution_count": 51,
   "metadata": {},
   "outputs": [
    {
     "data": {
      "text/plain": [
       "datetime.date"
      ]
     },
     "execution_count": 51,
     "metadata": {},
     "output_type": "execute_result"
    }
   ],
   "source": [
    "type(i)"
   ]
  },
  {
   "cell_type": "markdown",
   "metadata": {},
   "source": [
    "##### Access the components of the date"
   ]
  },
  {
   "cell_type": "code",
   "execution_count": 52,
   "metadata": {},
   "outputs": [
    {
     "name": "stdout",
     "output_type": "stream",
     "text": [
      "Day:  28\n",
      "Month:  10\n",
      "Year:  2020\n"
     ]
    }
   ],
   "source": [
    "print('Day: ', i.day)\n",
    "print('Month: ', i.month)\n",
    "print('Year: ', i.year)"
   ]
  },
  {
   "cell_type": "markdown",
   "metadata": {},
   "source": [
    "##### datetime"
   ]
  },
  {
   "cell_type": "code",
   "execution_count": 71,
   "metadata": {},
   "outputs": [],
   "source": [
    "i = datetime.now()"
   ]
  },
  {
   "cell_type": "code",
   "execution_count": 72,
   "metadata": {},
   "outputs": [
    {
     "name": "stdout",
     "output_type": "stream",
     "text": [
      "2020-10-28 19:47:01.827830\n"
     ]
    }
   ],
   "source": [
    "print(i)"
   ]
  },
  {
   "cell_type": "code",
   "execution_count": 73,
   "metadata": {},
   "outputs": [
    {
     "data": {
      "text/plain": [
       "datetime.datetime"
      ]
     },
     "execution_count": 73,
     "metadata": {},
     "output_type": "execute_result"
    }
   ],
   "source": [
    "type(i)"
   ]
  },
  {
   "cell_type": "code",
   "execution_count": 75,
   "metadata": {},
   "outputs": [
    {
     "name": "stdout",
     "output_type": "stream",
     "text": [
      "2020-10-28\n",
      "19:47:01.827830\n",
      "19\n",
      "47\n",
      "1\n",
      "827830\n"
     ]
    }
   ],
   "source": [
    "print(i.date())\n",
    "print(i.time())\n",
    "print(i.hour)\n",
    "print(i.minute)\n",
    "print(i.second)\n",
    "print(i.microsecond)\n"
   ]
  },
  {
   "cell_type": "code",
   "execution_count": 69,
   "metadata": {},
   "outputs": [
    {
     "data": {
      "text/plain": [
       "19"
      ]
     },
     "execution_count": 69,
     "metadata": {},
     "output_type": "execute_result"
    }
   ],
   "source": [
    "i.hour"
   ]
  },
  {
   "cell_type": "markdown",
   "metadata": {},
   "source": [
    "##### Datetime - Formatting options¶\n",
    "- Date Formatting options\n",
    "\n",
    "- %y/%Y - Year\n",
    "- %b/%B/%m - month\n",
    "- %d - Day\n",
    "- %a/%A - weekday name\n",
    "* Using the function - strftime(), we can format dates into different formats."
   ]
  },
  {
   "cell_type": "code",
   "execution_count": 76,
   "metadata": {},
   "outputs": [
    {
     "name": "stdout",
     "output_type": "stream",
     "text": [
      "2020-10-28 19:48:42.620319\n"
     ]
    }
   ],
   "source": [
    "dt = datetime.now()\n",
    "print(dt)"
   ]
  },
  {
   "cell_type": "code",
   "execution_count": 77,
   "metadata": {},
   "outputs": [
    {
     "name": "stdout",
     "output_type": "stream",
     "text": [
      "20\n",
      "2020\n",
      "Oct\n",
      "October\n",
      "10\n",
      "28\n",
      "Wed\n",
      "Wednesday\n"
     ]
    }
   ],
   "source": [
    "print(dt.strftime('%y')) # short year\n",
    "print(dt.strftime('%Y')) # full year\n",
    "print(dt.strftime('%b')) # short month name\n",
    "print(dt.strftime('%B')) # full month name\n",
    "print(dt.strftime('%m')) # month number\n",
    "print(dt.strftime('%d')) # day number in month\n",
    "print(dt.strftime('%a')) # short day name\n",
    "print(dt.strftime('%A')) # full day name"
   ]
  },
  {
   "cell_type": "code",
   "execution_count": 78,
   "metadata": {},
   "outputs": [
    {
     "name": "stdout",
     "output_type": "stream",
     "text": [
      "Wednesday, 28/October/2020\n",
      "28 Oct 2020, Wed\n",
      "28-Oct-2020, Wed\n",
      "28.Oct.2020, Wed\n",
      "Today's date is: 28.Oct.2020, Wed\n"
     ]
    }
   ],
   "source": [
    "print(dt.strftime('%A, %d/%B/%Y'))\n",
    "print(dt.strftime('%d %b %Y, %a'))\n",
    "print(dt.strftime('%d-%b-%Y, %a'))\n",
    "print(dt.strftime('%d.%b.%Y, %a'))\n",
    "print(dt.strftime('Today\\'s date is: %d.%b.%Y, %a'))"
   ]
  },
  {
   "cell_type": "markdown",
   "metadata": {},
   "source": [
    "##### Time Formatting options\n",
    "\n",
    "- %I/%H - 12/24 Hour\n",
    "- %M - Minute\n",
    "- %S - second\n",
    "- %p - local time AM/PM"
   ]
  },
  {
   "cell_type": "code",
   "execution_count": 79,
   "metadata": {},
   "outputs": [
    {
     "name": "stdout",
     "output_type": "stream",
     "text": [
      "07\n",
      "19\n",
      "48\n",
      "42\n",
      "PM\n"
     ]
    }
   ],
   "source": [
    "print(dt.strftime('%I')) # hours in 12HRS format\n",
    "print(dt.strftime('%H')) # hours in 24HRS format\n",
    "print(dt.strftime('%M')) # minutes\n",
    "print(dt.strftime('%S')) # seconds\n",
    "print(dt.strftime('%p')) # AM/PM"
   ]
  },
  {
   "cell_type": "code",
   "execution_count": 80,
   "metadata": {},
   "outputs": [
    {
     "name": "stdout",
     "output_type": "stream",
     "text": [
      "07:48:42 PM\n",
      "19:48:42\n",
      "28.Oct.2020, Wed, 07:48:42 PM\n"
     ]
    }
   ],
   "source": [
    "print(dt.strftime('%I:%M:%S %p'))\n",
    "print(dt.strftime('%H:%M:%S'))\n",
    "\n",
    "\n",
    "print(dt.strftime('%d.%b.%Y, %a, %I:%M:%S %p'))"
   ]
  },
  {
   "cell_type": "markdown",
   "metadata": {},
   "source": [
    "##### Predefined formats"
   ]
  },
  {
   "cell_type": "code",
   "execution_count": 81,
   "metadata": {},
   "outputs": [
    {
     "name": "stdout",
     "output_type": "stream",
     "text": [
      "Wed Oct 28 19:48:42 2020\n",
      "Wed Oct 28 19:48:42 2020\n",
      "10/28/20\n",
      "19:48:42\n"
     ]
    }
   ],
   "source": [
    "print(dt.strftime('%a %b %d %H:%M:%S %Y'))\n",
    "print(dt.strftime('%c'))\n",
    "\n",
    "print(dt.strftime('%x'))\n",
    "print(dt.strftime('%X'))"
   ]
  },
  {
   "cell_type": "markdown",
   "metadata": {},
   "source": [
    "##### Converting Strings to Dates"
   ]
  },
  {
   "cell_type": "code",
   "execution_count": 82,
   "metadata": {},
   "outputs": [],
   "source": [
    "str1 ='2020-10-15'"
   ]
  },
  {
   "cell_type": "code",
   "execution_count": 83,
   "metadata": {},
   "outputs": [
    {
     "data": {
      "text/plain": [
       "str"
      ]
     },
     "execution_count": 83,
     "metadata": {},
     "output_type": "execute_result"
    }
   ],
   "source": [
    "type(str1)"
   ]
  },
  {
   "cell_type": "code",
   "execution_count": 84,
   "metadata": {},
   "outputs": [
    {
     "ename": "AttributeError",
     "evalue": "'str' object has no attribute 'year'",
     "output_type": "error",
     "traceback": [
      "\u001b[1;31m---------------------------------------------------------------------------\u001b[0m",
      "\u001b[1;31mAttributeError\u001b[0m                            Traceback (most recent call last)",
      "\u001b[1;32m<ipython-input-84-a678256eaffc>\u001b[0m in \u001b[0;36m<module>\u001b[1;34m\u001b[0m\n\u001b[1;32m----> 1\u001b[1;33m \u001b[0mstr1\u001b[0m\u001b[1;33m.\u001b[0m\u001b[0myear\u001b[0m\u001b[1;33m\u001b[0m\u001b[1;33m\u001b[0m\u001b[0m\n\u001b[0m",
      "\u001b[1;31mAttributeError\u001b[0m: 'str' object has no attribute 'year'"
     ]
    }
   ],
   "source": [
    "str1.year"
   ]
  },
  {
   "cell_type": "code",
   "execution_count": 85,
   "metadata": {},
   "outputs": [
    {
     "name": "stdout",
     "output_type": "stream",
     "text": [
      "2020-10-15 00:00:00\n"
     ]
    }
   ],
   "source": [
    "print(datetime.strptime(str1, '%Y-%m-%d'))"
   ]
  },
  {
   "cell_type": "code",
   "execution_count": 86,
   "metadata": {},
   "outputs": [],
   "source": [
    "str_to_date = datetime.strptime(str1, '%Y-%m-%d')"
   ]
  },
  {
   "cell_type": "code",
   "execution_count": 87,
   "metadata": {},
   "outputs": [
    {
     "name": "stdout",
     "output_type": "stream",
     "text": [
      "2020-10-15 00:00:00\n"
     ]
    }
   ],
   "source": [
    "print(str_to_date)"
   ]
  },
  {
   "cell_type": "markdown",
   "metadata": {},
   "source": [
    "##### Time delta object"
   ]
  },
  {
   "cell_type": "code",
   "execution_count": 88,
   "metadata": {},
   "outputs": [],
   "source": [
    "date1 = date(2020,9,29)\n",
    "date2 = date(2025,8,15)"
   ]
  },
  {
   "cell_type": "code",
   "execution_count": 89,
   "metadata": {},
   "outputs": [
    {
     "name": "stdout",
     "output_type": "stream",
     "text": [
      "2020-09-29\n"
     ]
    }
   ],
   "source": [
    "print(date1)"
   ]
  },
  {
   "cell_type": "code",
   "execution_count": 90,
   "metadata": {},
   "outputs": [
    {
     "name": "stdout",
     "output_type": "stream",
     "text": [
      "2025-08-15\n"
     ]
    }
   ],
   "source": [
    "print(date2)"
   ]
  },
  {
   "cell_type": "code",
   "execution_count": 91,
   "metadata": {},
   "outputs": [],
   "source": [
    "x = date2-date1"
   ]
  },
  {
   "cell_type": "code",
   "execution_count": 92,
   "metadata": {},
   "outputs": [
    {
     "name": "stdout",
     "output_type": "stream",
     "text": [
      "1781 days, 0:00:00\n"
     ]
    }
   ],
   "source": [
    "print(x)"
   ]
  },
  {
   "cell_type": "code",
   "execution_count": 95,
   "metadata": {},
   "outputs": [
    {
     "name": "stdout",
     "output_type": "stream",
     "text": [
      "4.879452054794521\n"
     ]
    }
   ],
   "source": [
    "print(x.days/365)"
   ]
  },
  {
   "cell_type": "markdown",
   "metadata": {},
   "source": [
    "##### Python sleep()"
   ]
  },
  {
   "cell_type": "code",
   "execution_count": 96,
   "metadata": {},
   "outputs": [],
   "source": [
    "import time"
   ]
  },
  {
   "cell_type": "code",
   "execution_count": 97,
   "metadata": {},
   "outputs": [
    {
     "name": "stdout",
     "output_type": "stream",
     "text": [
      "2020-10-28 19:55:43.163310\n",
      "2020-10-28 19:55:58.175012\n"
     ]
    }
   ],
   "source": [
    "print(datetime.now())\n",
    "time.sleep(15)\n",
    "print(datetime.now())"
   ]
  },
  {
   "cell_type": "code",
   "execution_count": null,
   "metadata": {},
   "outputs": [],
   "source": []
  }
 ],
 "metadata": {
  "kernelspec": {
   "display_name": "Python 3",
   "language": "python",
   "name": "python3"
  },
  "language_info": {
   "codemirror_mode": {
    "name": "ipython",
    "version": 3
   },
   "file_extension": ".py",
   "mimetype": "text/x-python",
   "name": "python",
   "nbconvert_exporter": "python",
   "pygments_lexer": "ipython3",
   "version": "3.8.3"
  }
 },
 "nbformat": 4,
 "nbformat_minor": 4
}
