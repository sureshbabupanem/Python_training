{
 "cells": [
  {
   "cell_type": "markdown",
   "metadata": {},
   "source": [
    "# Control Flow\n",
    "\n",
    "A program’s control flow is the order in which the program’s code executes. The control flow of a Python program is regulated by conditional statements, loops, and function calls. This section covers the if statement and for and while loops; functions are covered in the next class.\n",
    "\n",
    "![](https://www.researchgate.net/profile/Kay_Smarsly/publication/322509045/figure/fig1/AS:583153716215809@1516046088625/Control-flow-of-elementary-control-structures.png)\n",
    "\n",
    "\n",
    "\n",
    "## Python Indentation\n",
    "In Python, the code blocks are defined by a set of common or consistent number of spaces. This is called Python Indentation.\n",
    "\n",
    "The block scope will end at the first un-indented line.\n",
    "\n",
    "The best practice is to use on Tab space."
   ]
  },
  {
   "cell_type": "markdown",
   "metadata": {},
   "source": [
    "##### Conditions \n",
    ">* IF\n",
    ">* IF else\n",
    ">* if elif else\n",
    "#### Loops\n",
    ">* While\n",
    ">* For \n",
    "#### Break\n",
    "#### Continue\n",
    "##### Comparision Operators\n",
    "- x == y\n",
    "- x!= y\n",
    "- x < y\n",
    "- x <= y\n",
    "- x > y\n",
    "- x >= y\n"
   ]
  },
  {
   "cell_type": "markdown",
   "metadata": {},
   "source": [
    "##### IF condition"
   ]
  },
  {
   "cell_type": "code",
   "execution_count": null,
   "metadata": {},
   "outputs": [],
   "source": [
    "x=10\n",
    "y=20"
   ]
  },
  {
   "cell_type": "markdown",
   "metadata": {},
   "source": [
    "##### Condition is -- I need check whther x is greater than y \n"
   ]
  },
  {
   "cell_type": "markdown",
   "metadata": {},
   "source": [
    "##### syntax\n",
    "\n",
    ">* if (condition):\n",
    "    statement1\n",
    "    statement2\n"
   ]
  },
  {
   "cell_type": "code",
   "execution_count": null,
   "metadata": {},
   "outputs": [],
   "source": [
    "if(x>y):\n",
    "    print(\"x is greater than y\")\n",
    "    print(\"Data science class\")"
   ]
  },
  {
   "cell_type": "code",
   "execution_count": null,
   "metadata": {},
   "outputs": [],
   "source": [
    "if(x>y):\n",
    "    print(\"x is greater than y\")\n",
    "\n",
    "print(\"Data science class\")\n"
   ]
  },
  {
   "cell_type": "code",
   "execution_count": null,
   "metadata": {},
   "outputs": [],
   "source": [
    "if(x>y):\n",
    "    print(\"x is greater than y\")\n",
    "     print(\"Data science class\")     \n"
   ]
  },
  {
   "cell_type": "markdown",
   "metadata": {},
   "source": [
    "##### if else:"
   ]
  },
  {
   "cell_type": "markdown",
   "metadata": {},
   "source": [
    "\n",
    ">* if (condition):\n",
    "    * statement1\n",
    "    *  statement2\n",
    ">* else:\n",
    "    * Statement4"
   ]
  },
  {
   "cell_type": "code",
   "execution_count": null,
   "metadata": {},
   "outputs": [],
   "source": [
    "x=10\n",
    "y=20\n",
    "if(x>y):\n",
    "    print(\"x is greater than y\")\n",
    "else:\n",
    "    print(\"enetering into else block\")\n",
    "    print(\"x is lessthan y\")"
   ]
  },
  {
   "cell_type": "code",
   "execution_count": null,
   "metadata": {},
   "outputs": [],
   "source": [
    "x=100\n",
    "y=20\n",
    "if(x>y):\n",
    "    print(\"x is greater than y\")\n",
    "else:\n",
    "    print(\"enetering into else block\")\n",
    "    print(\"x is lessthan y\")\n"
   ]
  },
  {
   "cell_type": "code",
   "execution_count": null,
   "metadata": {},
   "outputs": [],
   "source": [
    "x=100\n",
    "y=20\n",
    "if(x>y):\n",
    "    print(\"x is greater than y\")\n",
    "else:\n",
    "    print(\"enetering into else block\")\n",
    "    print(\"x is lessthan y\")\n",
    "print(\"outside if\")"
   ]
  },
  {
   "cell_type": "code",
   "execution_count": null,
   "metadata": {},
   "outputs": [],
   "source": [
    "x=100\n",
    "y=20\n",
    "if(x>y):\n",
    "    print(\"x is greater than y\")\n",
    "else:\n",
    "    print(\"enetering into else block\")\n",
    "    print(\"x is lessthan y\")\n",
    " print(\"outside if\")"
   ]
  },
  {
   "cell_type": "markdown",
   "metadata": {},
   "source": [
    "##### if elif else\n",
    "\n",
    ">* if (condition):\n",
    "    * statement1\n",
    "    * statement2\n",
    "    \n",
    ">*elif (condition):\n",
    "    * statement1\n",
    "    * statement2\n",
    "    \n",
    ">*elif (condition):\n",
    "    * statement1\n",
    "    * statement2\n",
    ">*elif (condition):\n",
    "    * statement1\n",
    "    * statement2\n",
    "    \n",
    ">* else:\n",
    "    * Statement\n",
    "\n"
   ]
  },
  {
   "cell_type": "code",
   "execution_count": null,
   "metadata": {},
   "outputs": [],
   "source": [
    "marks=?\n",
    ">=90 --- distinction\n",
    ">80-90 --  Grade A\n",
    ">70-80     Grade B\n",
    ">60-70    Grade c\n",
    "<60   - Fail"
   ]
  },
  {
   "cell_type": "code",
   "execution_count": null,
   "metadata": {},
   "outputs": [],
   "source": [
    "marks=50"
   ]
  },
  {
   "cell_type": "code",
   "execution_count": null,
   "metadata": {},
   "outputs": [],
   "source": [
    "if marks>=90:\n",
    "    print(\"Distinction\")\n",
    "elif marks>80:\n",
    "    print(\"Grade A\")\n",
    "elif marks>70:\n",
    "    print(\"Grade B\")\n",
    "elif marks>60:\n",
    "    print(\"Grade C\")\n",
    "else:\n",
    "    print(\"Fail\")\n",
    "    \n",
    "    "
   ]
  },
  {
   "cell_type": "code",
   "execution_count": null,
   "metadata": {},
   "outputs": [],
   "source": [
    "x=100\n",
    "y=20"
   ]
  },
  {
   "cell_type": "code",
   "execution_count": null,
   "metadata": {},
   "outputs": [],
   "source": [
    "if(x>20):\n",
    "    if(y>10):\n",
    "        print(\"second if\")\n",
    "    print(\"first if\")\n",
    "print(\"outside if\")"
   ]
  },
  {
   "cell_type": "code",
   "execution_count": null,
   "metadata": {},
   "outputs": [],
   "source": [
    "if(x>20):\n",
    "    if(y>100):\n",
    "        print(\"second if\")\n",
    "    print(\"first if\")\n",
    "print(\"outside if\")"
   ]
  },
  {
   "cell_type": "markdown",
   "metadata": {},
   "source": [
    "##### Loops"
   ]
  },
  {
   "cell_type": "markdown",
   "metadata": {},
   "source": [
    " >* While Loop\n",
    ">* for Loop"
   ]
  },
  {
   "cell_type": "markdown",
   "metadata": {},
   "source": [
    "# The while Statement\n",
    "\n",
    "The while statement in Python supports repeated execution of a statement or block of statements that is controlled by a conditional expression. \n",
    "\n",
    "    count = 0\n",
    "    while x > 0:\n",
    "      x = x / 2            \n",
    "      count += 1\n",
    "  \n",
    "    \n",
    "First, expression, which is known as the loop condition, is evaluated. If the condition is false, the while statement ends. If the loop condition is satisfied, the statement or statements that comprise the loop body are executed. When the loop body finishes executing, the loop condition is evaluated again, to see if another iteration should be performed. This process continues until the loop condition is false, at which point the while statement ends.\n",
    "\n",
    "The loop body should contain code that eventually makes the loop condition false, or the loop will never end unless an exception is raised or the loop body executes a break statement. A loop that is in a function’s body also ends if a return statement executes in the loop body, as the whole function ends in this case."
   ]
  },
  {
   "cell_type": "markdown",
   "metadata": {},
   "source": [
    "syntax:\n",
    " >* while(condition):\n",
    "      * Statements\n",
    "    "
   ]
  },
  {
   "cell_type": "code",
   "execution_count": null,
   "metadata": {},
   "outputs": [],
   "source": [
    "x=20\n",
    "y=10"
   ]
  },
  {
   "cell_type": "code",
   "execution_count": null,
   "metadata": {
    "scrolled": false
   },
   "outputs": [],
   "source": [
    "# Infinite Loop \n",
    "while(x>y):\n",
    "    print(\"x is greater than y \")\n"
   ]
  },
  {
   "cell_type": "code",
   "execution_count": null,
   "metadata": {},
   "outputs": [],
   "source": [
    "x=20\n",
    "y=10"
   ]
  },
  {
   "cell_type": "code",
   "execution_count": null,
   "metadata": {
    "scrolled": false
   },
   "outputs": [],
   "source": [
    "\n",
    "while(x>y):\n",
    "    print(\"x is greater than y \")\n",
    "    x=x-2\n",
    "    print(x)"
   ]
  },
  {
   "cell_type": "markdown",
   "metadata": {},
   "source": [
    "##### break "
   ]
  },
  {
   "cell_type": "code",
   "execution_count": null,
   "metadata": {},
   "outputs": [],
   "source": [
    "x=20\n",
    "y=10\n",
    "while(x>y):\n",
    "    print(\"x is greater than y \")\n",
    "    break\n"
   ]
  },
  {
   "cell_type": "code",
   "execution_count": null,
   "metadata": {},
   "outputs": [],
   "source": [
    "x=20\n",
    "y=10\n",
    "while(x>y):\n",
    "    print(\"x is greater than y \")\n",
    "    print(\"before break\")\n",
    "    break\n",
    "    print(\"after break\")\n"
   ]
  },
  {
   "cell_type": "markdown",
   "metadata": {},
   "source": [
    "##### continue "
   ]
  },
  {
   "cell_type": "code",
   "execution_count": null,
   "metadata": {},
   "outputs": [],
   "source": [
    "x=20\n",
    "y=10\n",
    "while(x>y):\n",
    "    print(\"x is greater than y \")\n",
    "    x=x-2\n",
    "    continue\n",
    "    print(x)"
   ]
  },
  {
   "cell_type": "markdown",
   "metadata": {},
   "source": [
    "##### Home work "
   ]
  },
  {
   "cell_type": "code",
   "execution_count": null,
   "metadata": {},
   "outputs": [],
   "source": [
    "#While Loops\n",
    "x=10\n",
    "y=5\n",
    "1.  print(\" data science class\") for 5 times  using while loop by using x and y values"
   ]
  },
  {
   "cell_type": "code",
   "execution_count": null,
   "metadata": {},
   "outputs": [],
   "source": [
    "#While Loop\n",
    "x=10\n",
    "y=5\n",
    "1.  print(\" data science class\") for 1 time and check if y is odd ,if y is odd number print(\" odd number \") for 1 time "
   ]
  },
  {
   "cell_type": "markdown",
   "metadata": {},
   "source": [
    "#### For Loop\n",
    "\n",
    "The for statement in Python supports repeated execution of a statement or block of statements that is controlled by an iterable expression.\n",
    "\n",
    "    for target in iterable:\n",
    "      statement(s)\n",
    "      \n",
    "Note that the in keyword is part of the syntax of the for statement and is functionally unrelated to the in operator used for membership testing.      \n",
    "\n",
    "iterable may be any Python expression suitable as an argument to built-in function iter, which returns an iterator object (explained in detail in the next section). target is normally an identifier that names the control variable of the loop; the for statement successively rebinds this variable to each item of the iterator, in order. The statement or statements that comprise the loop body execute once for each item in iterable (unless the loop ends because an exception is raised or a break or return statement is executed)."
   ]
  },
  {
   "cell_type": "markdown",
   "metadata": {},
   "source": [
    "##### syntax\n",
    ">* for i in variable:\n",
    "    * stmnts"
   ]
  },
  {
   "cell_type": "code",
   "execution_count": null,
   "metadata": {},
   "outputs": [],
   "source": [
    "l=[1,2,3,4,5,6]"
   ]
  },
  {
   "cell_type": "code",
   "execution_count": null,
   "metadata": {},
   "outputs": [],
   "source": [
    "type(l)"
   ]
  },
  {
   "cell_type": "code",
   "execution_count": null,
   "metadata": {
    "scrolled": true
   },
   "outputs": [],
   "source": [
    "print(l[0])\n",
    "print(l[1])\n",
    "print(l[2])\n",
    "print(l[3])\n",
    "\n",
    "....."
   ]
  },
  {
   "cell_type": "code",
   "execution_count": null,
   "metadata": {},
   "outputs": [],
   "source": [
    "print(l)"
   ]
  },
  {
   "cell_type": "code",
   "execution_count": null,
   "metadata": {
    "scrolled": true
   },
   "outputs": [],
   "source": [
    "for  i in l:\n",
    "    print(i)"
   ]
  },
  {
   "cell_type": "code",
   "execution_count": null,
   "metadata": {},
   "outputs": [],
   "source": [
    "len(l)"
   ]
  },
  {
   "cell_type": "code",
   "execution_count": null,
   "metadata": {},
   "outputs": [],
   "source": [
    "for i in range(0,len(l)):\n",
    "    print(l[i])"
   ]
  },
  {
   "cell_type": "code",
   "execution_count": null,
   "metadata": {},
   "outputs": [],
   "source": [
    "Home work :\n",
    "l1=[4,6,5,7,10,13,12,15,17]\n",
    "1.Print only even numbers\n",
    "2.print only odd numbers\n",
    "3.print first even number in my list \n",
    "4.print first odd number in my list \n"
   ]
  },
  {
   "cell_type": "code",
   "execution_count": null,
   "metadata": {
    "scrolled": true
   },
   "outputs": [],
   "source": [
    "for i in range(1,10):\n",
    "    print(\"value of i is\",i)\n",
    "    print(\"print of for loop\")\n",
    "    #continue\n",
    "    if (i>3):\n",
    "        print(\"print of  if block\")\n",
    "    print(\"secod print of for loop\")\n",
    "    break"
   ]
  },
  {
   "cell_type": "markdown",
   "metadata": {},
   "source": [
    "##### range() function\n",
    "\n",
    "Looping over a sequence of integers is a common task, so Python provides built-in functions range and xrange to generate and return integer sequences. The simplest, most idiomatic way to loop n times in Python is:\n",
    "\n",
    "\n",
    "    for i in range(n):\n",
    "      statement(s)\n",
    "      \n",
    "range( x ) returns a list whose items are consecutive integers from 0 (included) up to x (excluded). range( x,y ) returns a list whose items are consecutive integers from x (included) up to y (excluded). The result is the empty list if x is greater than or equal to y. range( x,y,step ) returns a list of integers from x (included) up to y (excluded), such that the difference between each two adjacent items in the list is step.   "
   ]
  },
  {
   "cell_type": "code",
   "execution_count": null,
   "metadata": {},
   "outputs": [],
   "source": [
    "list(range(10, 30, 2))"
   ]
  },
  {
   "cell_type": "code",
   "execution_count": null,
   "metadata": {},
   "outputs": [],
   "source": [
    "list(range(30, 10, -1))"
   ]
  },
  {
   "cell_type": "code",
   "execution_count": null,
   "metadata": {
    "scrolled": true
   },
   "outputs": [],
   "source": [
    "for i in range(10):\n",
    "    print (i)"
   ]
  },
  {
   "cell_type": "markdown",
   "metadata": {},
   "source": [
    "#### List Comprehensions\n",
    "\n",
    "A common use of a for loop is to inspect each item in a sequence and build a new list by appending the results of an expression computed on some or all of the items inspected. The expression form, called a list comprehension, lets you code this common idiom concisely and directly. Since a list comprehension is an expression (rather than a block of statements), you can use it directly wherever you need an expression (e.g., as an actual argument in a function call, in a return statement, or as a subexpression for some other expression)."
   ]
  },
  {
   "cell_type": "code",
   "execution_count": null,
   "metadata": {},
   "outputs": [],
   "source": [
    "mylst = [10,20,30]"
   ]
  },
  {
   "cell_type": "code",
   "execution_count": null,
   "metadata": {},
   "outputs": [],
   "source": [
    "l1=[]\n",
    "for l in mylst:\n",
    "    l1.append(l+1)"
   ]
  },
  {
   "cell_type": "code",
   "execution_count": null,
   "metadata": {},
   "outputs": [],
   "source": [
    "print(l1)"
   ]
  },
  {
   "cell_type": "code",
   "execution_count": null,
   "metadata": {},
   "outputs": [],
   "source": [
    "\n",
    "[x+1 for x in mylst]"
   ]
  },
  {
   "cell_type": "markdown",
   "metadata": {},
   "source": [
    "##### Comparision Operators\n",
    "- x == y\n",
    "- x!= y\n",
    "- x < y\n",
    "- x <= y\n",
    "- x > y\n",
    "- x >= y\n"
   ]
  },
  {
   "cell_type": "code",
   "execution_count": null,
   "metadata": {},
   "outputs": [],
   "source": [
    "x=10\n",
    "y=20\n",
    "print(\"Equals to\",x==y)\n",
    "print(\"Not equals\",x!=y)\n",
    "print(\"Less than\",x<y)\n",
    "print(\"Less than equal to \",x<=y)\n",
    "print(\"Greater than\",x>y)\n",
    "print(\"Greater than equal to\",x>=y)"
   ]
  },
  {
   "cell_type": "markdown",
   "metadata": {},
   "source": [
    "##### Boolean Operations\n",
    ">* and\n",
    ">* or\n",
    ">* not"
   ]
  },
  {
   "cell_type": "code",
   "execution_count": null,
   "metadata": {},
   "outputs": [],
   "source": [
    "age=21\n",
    "marks=80\n",
    "# Both Conditions should be true \n",
    "if age >= 18 and marks > 50:\n",
    "    print (\"welcome to the job\")\n",
    "    \n",
    "if age >= 18 and marks > 150:\n",
    "    print (\"welcome to the job1\")"
   ]
  },
  {
   "cell_type": "code",
   "execution_count": null,
   "metadata": {},
   "outputs": [],
   "source": [
    "# Any one of the condition is true \n",
    "if age >= 18 or marks > 50:\n",
    "    print (\"welcome to the job\")\n",
    "    \n",
    "if age >= 18 or marks > 150:\n",
    "    print (\"welcome to the job1\")"
   ]
  },
  {
   "cell_type": "code",
   "execution_count": null,
   "metadata": {},
   "outputs": [],
   "source": [
    "not age > 18"
   ]
  },
  {
   "cell_type": "markdown",
   "metadata": {},
   "source": [
    "##### Formatting"
   ]
  },
  {
   "cell_type": "code",
   "execution_count": null,
   "metadata": {},
   "outputs": [],
   "source": [
    "age = 26\n",
    "txt = \"My name is Suresh, and I am \"+str(age)\n",
    "print (txt)"
   ]
  },
  {
   "cell_type": "code",
   "execution_count": null,
   "metadata": {},
   "outputs": [],
   "source": [
    "age = 26\n",
    "txt = \"My name is Suresh, and I am {}\"\n",
    "print (txt.format(age))"
   ]
  },
  {
   "cell_type": "code",
   "execution_count": null,
   "metadata": {},
   "outputs": [],
   "source": [
    "age = 26\n",
    "quantity = 10\n",
    "itemno = 3456\n",
    "txt = \"My name is Suresh, and I am {} years old and I purchased {} number of {}\"\n",
    "print (txt.format(age, quantity, itemno))"
   ]
  },
  {
   "cell_type": "markdown",
   "metadata": {},
   "source": [
    "##### Escape Character\n",
    "\n",
    "#### Common escape characters \n",
    "\n",
    "```\n",
    "\\'\n",
    "\\\"\n",
    "\\n\n",
    "\\t\n",
    "\\b\n",
    "\n",
    "```"
   ]
  },
  {
   "cell_type": "code",
   "execution_count": null,
   "metadata": {},
   "outputs": [],
   "source": [
    "st = \"And then he said \\\"Hello World\\\"\"\n",
    "st"
   ]
  },
  {
   "cell_type": "code",
   "execution_count": null,
   "metadata": {},
   "outputs": [],
   "source": [
    "st = \"And then he said\\n \\\"Hello World\\\"\"\n",
    "print (st)"
   ]
  },
  {
   "cell_type": "code",
   "execution_count": null,
   "metadata": {},
   "outputs": [],
   "source": [
    "st = \"And then he said\\t \\\"Hello World\\\"\"\n",
    "print (st)"
   ]
  },
  {
   "cell_type": "code",
   "execution_count": null,
   "metadata": {},
   "outputs": [],
   "source": [
    "st = \"And then he said\\b \\\"Hello World\\\"\"\n",
    "print (st)"
   ]
  },
  {
   "cell_type": "markdown",
   "metadata": {},
   "source": [
    "##### Treasure hunt game example"
   ]
  },
  {
   "cell_type": "code",
   "execution_count": null,
   "metadata": {},
   "outputs": [],
   "source": [
    "##### Tresure Hunt\n",
    "\n",
    "X -- is my treasure \n",
    "1. If X index is found -- print he is the winner \n",
    "2. if the guess is index of E - He is dead \n",
    "3. if he guess other index(except E and X) # select other index \n",
    "\n"
   ]
  },
  {
   "cell_type": "code",
   "execution_count": null,
   "metadata": {},
   "outputs": [],
   "source": [
    "\n",
    "guess = int(input (\"Enter a position (1-13): \"))\n",
    "game_zone = ['','','','X','','','','E','','','','','','']\n",
    "#checker = 1\n",
    "while True:\n",
    "    if game_zone[guess] == 'X':\n",
    "        print (\"You found it! Congrats\")\n",
    "        break\n",
    "    elif game_zone[guess] == 'E':\n",
    "        print (\"You are dead\")\n",
    "        break\n",
    "    else:\n",
    "        if guess < 3:\n",
    "            print(\"Nothing is found!!!!!!!!! Treasure on Right side\")\n",
    "        elif guess >3:\n",
    "            print(\"Nothing is found!!!!!!!!! Treasure on Left side\")\n",
    "        guess = int(input((\"Please enter next postiion : \")))"
   ]
  },
  {
   "cell_type": "markdown",
   "metadata": {},
   "source": [
    "##### Quick Task: Wordcount\n",
    "\n",
    "Given a sentence, find how many times each word occured\n",
    "\n",
    "1. Convert everything to lowercase\n",
    "1. Remove extra character (.)\n",
    "1. Chunk into individual words\n",
    "1. Read word by word and find the count, and store\n",
    "1. Print"
   ]
  },
  {
   "cell_type": "code",
   "execution_count": null,
   "metadata": {},
   "outputs": [],
   "source": [
    "sentence = \"\"\"Hello everybody I am learning Data Science. \n",
    "    I am learning about how to crunch large amount of data.\n",
    "    This helps us understand the past and predict the future\"\"\"\n",
    "\n",
    "# {'hello':1, 'data':2, 'i':2,.....}"
   ]
  },
  {
   "cell_type": "code",
   "execution_count": null,
   "metadata": {},
   "outputs": [],
   "source": [
    "sentence = \"\"\"Hello everybody I am learning Data Science. \n",
    "    I am learning about how to crunch large amount of data.\n",
    "    This helps us understand the past and predict the future\"\"\"\n",
    "\n",
    "sentence = sentence.lower()\n",
    "sentence = sentence.replace('.','')\n",
    "sentence = sentence.replace('\\n','')\n",
    "sentence_list = sentence.split(' ')\n",
    "sentence_set = set(sentence_list)\n",
    "\n",
    "word_count = dict()\n",
    "\n",
    "for word in sentence_set:\n",
    "    if word == '':\n",
    "        continue\n",
    "    word_count[word] = sentence_list.count(word)\n",
    "word_count"
   ]
  },
  {
   "cell_type": "markdown",
   "metadata": {},
   "source": [
    "##### Quick Task: Count Elements in a List\n",
    "\n",
    "Given a list of integers, and a number num, find how many times num is present in integers"
   ]
  },
  {
   "cell_type": "code",
   "execution_count": null,
   "metadata": {},
   "outputs": [],
   "source": [
    "lst = [3,4,6,5,7,5,4,5,6,7,5,4]\n",
    "\n",
    "num = int(input('Enter number to be searched: '))  5\n",
    "\n",
    "counter = 0\n",
    "for item in lst:\n",
    "    if num == item:\n",
    "        counter += 1\n",
    "print (\"number of times number\",counter)"
   ]
  },
  {
   "cell_type": "code",
   "execution_count": null,
   "metadata": {},
   "outputs": [],
   "source": [
    "##### Using in buit method lst.count(10)"
   ]
  },
  {
   "cell_type": "code",
   "execution_count": null,
   "metadata": {},
   "outputs": [],
   "source": []
  }
 ],
 "metadata": {
  "kernelspec": {
   "display_name": "Python 3",
   "language": "python",
   "name": "python3"
  },
  "language_info": {
   "codemirror_mode": {
    "name": "ipython",
    "version": 3
   },
   "file_extension": ".py",
   "mimetype": "text/x-python",
   "name": "python",
   "nbconvert_exporter": "python",
   "pygments_lexer": "ipython3",
   "version": "3.8.3"
  }
 },
 "nbformat": 4,
 "nbformat_minor": 2
}
