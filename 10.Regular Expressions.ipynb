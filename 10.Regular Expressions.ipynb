{
 "cells": [
  {
   "cell_type": "markdown",
   "metadata": {},
   "source": [
    "##### Regular Expressions (RegEx) in Python\n",
    "A Regular Expression (RegEx) is a sequence of chararcters which describes a textual pattern.\n",
    "\n",
    "In Python, **re** package that provides a set of methods to perform various RegEx operations."
   ]
  },
  {
   "cell_type": "markdown",
   "metadata": {},
   "source": [
    "##### Major functions that are avaialble in re:\n",
    "\n",
    "* Compile - Returns a RegEx pattern object.\n",
    "* Search - Returns a match object if there is a match found.\n",
    "* findall - Returns a list of all matches.\n",
    "* sub - Replaces one or more matches within the text.\n",
    "* split - Returns a list where the text has been split at every match."
   ]
  },
  {
   "cell_type": "markdown",
   "metadata": {},
   "source": [
    "##### Create a Pattern object"
   ]
  },
  {
   "cell_type": "code",
   "execution_count": 1,
   "metadata": {},
   "outputs": [],
   "source": [
    "# import the reuqired package\n",
    "\n",
    "import re"
   ]
  },
  {
   "cell_type": "code",
   "execution_count": 2,
   "metadata": {},
   "outputs": [
    {
     "data": {
      "text/plain": [
       "re.compile(r'\\d\\d\\d\\d\\d\\d\\d\\d\\d\\d', re.UNICODE)"
      ]
     },
     "execution_count": 2,
     "metadata": {},
     "output_type": "execute_result"
    }
   ],
   "source": [
    "# A RegEx pattern object for a mobile number - '9944912345'\n",
    "\n",
    "re.compile('\\d\\d\\d\\d\\d\\d\\d\\d\\d\\d')"
   ]
  },
  {
   "cell_type": "code",
   "execution_count": 3,
   "metadata": {},
   "outputs": [],
   "source": [
    "mobile_po = re.compile('\\d\\d\\d\\d\\d\\d\\d\\d\\d\\d')"
   ]
  },
  {
   "cell_type": "code",
   "execution_count": 4,
   "metadata": {},
   "outputs": [
    {
     "data": {
      "text/plain": [
       "re.Pattern"
      ]
     },
     "execution_count": 4,
     "metadata": {},
     "output_type": "execute_result"
    }
   ],
   "source": [
    "type(mobile_po)"
   ]
  },
  {
   "cell_type": "markdown",
   "metadata": {},
   "source": [
    "##### Create a Match object"
   ]
  },
  {
   "cell_type": "code",
   "execution_count": 6,
   "metadata": {},
   "outputs": [],
   "source": [
    "text1 = '''Support around JioFiber is now just a WhatsApp away.\n",
    "Click Here to open the support channel on WhatsApp. Alternatively, you can send \"Hi\" to 7000570005 to get started.'''"
   ]
  },
  {
   "cell_type": "code",
   "execution_count": 7,
   "metadata": {},
   "outputs": [
    {
     "data": {
      "text/plain": [
       "'Support around JioFiber is now just a WhatsApp away.\\nClick Here to open the support channel on WhatsApp. Alternatively, you can send \"Hi\" to 7000570005 to get started.'"
      ]
     },
     "execution_count": 7,
     "metadata": {},
     "output_type": "execute_result"
    }
   ],
   "source": [
    "text1"
   ]
  },
  {
   "cell_type": "markdown",
   "metadata": {},
   "source": [
    "* search() will return a Match object if the pattern is found else it will return None."
   ]
  },
  {
   "cell_type": "code",
   "execution_count": 8,
   "metadata": {},
   "outputs": [],
   "source": [
    "mobile_mo = mobile_po.search(text1)"
   ]
  },
  {
   "cell_type": "code",
   "execution_count": 9,
   "metadata": {},
   "outputs": [
    {
     "data": {
      "text/plain": [
       "<re.Match object; span=(141, 151), match='7000570005'>"
      ]
     },
     "execution_count": 9,
     "metadata": {},
     "output_type": "execute_result"
    }
   ],
   "source": [
    "mobile_mo"
   ]
  },
  {
   "cell_type": "code",
   "execution_count": 10,
   "metadata": {},
   "outputs": [
    {
     "data": {
      "text/plain": [
       "re.Match"
      ]
     },
     "execution_count": 10,
     "metadata": {},
     "output_type": "execute_result"
    }
   ],
   "source": [
    "type(mobile_mo)"
   ]
  },
  {
   "cell_type": "code",
   "execution_count": 11,
   "metadata": {},
   "outputs": [
    {
     "name": "stdout",
     "output_type": "stream",
     "text": [
      "<re.Match object; span=(141, 151), match='7000570005'>\n"
     ]
    }
   ],
   "source": [
    "print(mobile_mo)"
   ]
  },
  {
   "cell_type": "markdown",
   "metadata": {},
   "source": [
    "* group() returns the matched text"
   ]
  },
  {
   "cell_type": "code",
   "execution_count": 12,
   "metadata": {},
   "outputs": [
    {
     "name": "stdout",
     "output_type": "stream",
     "text": [
      "Mobile number is:  7000570005\n"
     ]
    }
   ],
   "source": [
    "print('Mobile number is: ', mobile_mo.group())"
   ]
  },
  {
   "cell_type": "markdown",
   "metadata": {},
   "source": [
    "##### Creating groups with parantheses ()"
   ]
  },
  {
   "cell_type": "code",
   "execution_count": 13,
   "metadata": {},
   "outputs": [],
   "source": [
    "text2 = '''JioCare\n",
    "\n",
    "Our experts are available for your assistance 24x7 (Monday - Sunday)\n",
    "\n",
    "Interested in Jio? Talk to us on\t1860-893-3333\n",
    "For recharge plans, data balance, validity, recharge confirmation & offers\t1991\n",
    "For Queries\t199\n",
    "For Complaints\t198\n",
    "For Other numbers\t1800-889-9999\n",
    "Tele-verification to activate both HD voice & data services\t1977\n",
    "Tele-verification to activate data services only\t1800-890-1977\n",
    "For support on International Roaming\n",
    "(accessible only when roaming abroad) +917018899999 (charges applicable)\n",
    "Device Care Helpline (JioPhone, LYF Mobile & JioFi)\n",
    "\n",
    "Our experts are available for your assistance on all Days, from 9am to 9pm\n",
    "\n",
    "Helpline 1800-890-9999\n",
    "Jio Enterprise Mobility & Business Solutions\n",
    "\n",
    "Our experts are available for your assistance 24x7 (Monday - Sunday)\n",
    "\n",
    "Enterprise Mobility Services 1800-889-9333\n",
    "Enterprise Connectivity Services & Business Solutions\t1800-889-9444\n",
    "New Business Connection\t1800-889-9555\n",
    "Care Helpline for JioFiber Customers\n",
    "\n",
    "Our experts are available for your assistance 24X7 (Monday – Sunday)\n",
    "\n",
    "Helpline 1800-896-9999\n",
    "Online shopping\n",
    "\n",
    "For any online shopping related assistance, reach out to our experts between 9 am to 9 pm (Monday – Sunday)\n",
    "\n",
    "Helpline 1800-893-3399'''"
   ]
  },
  {
   "cell_type": "code",
   "execution_count": 16,
   "metadata": {},
   "outputs": [],
   "source": [
    "tollfree_po = re.compile('\\d\\d\\d\\d-\\d\\d\\d-\\d\\d\\d\\d')\n",
    "tollfree_mo = tollfree_po.search(text2)"
   ]
  },
  {
   "cell_type": "code",
   "execution_count": 17,
   "metadata": {},
   "outputs": [
    {
     "data": {
      "text/plain": [
       "<re.Match object; span=(112, 125), match='1860-893-3333'>"
      ]
     },
     "execution_count": 17,
     "metadata": {},
     "output_type": "execute_result"
    }
   ],
   "source": [
    "tollfree_mo"
   ]
  },
  {
   "cell_type": "code",
   "execution_count": 19,
   "metadata": {},
   "outputs": [
    {
     "name": "stdout",
     "output_type": "stream",
     "text": [
      "1860-893-3333\n"
     ]
    }
   ],
   "source": [
    "print(tollfree_mo.group())"
   ]
  },
  {
   "cell_type": "code",
   "execution_count": 20,
   "metadata": {},
   "outputs": [
    {
     "name": "stdout",
     "output_type": "stream",
     "text": [
      "1860-893-3333\n"
     ]
    }
   ],
   "source": [
    "print(tollfree_mo.group(0))"
   ]
  },
  {
   "cell_type": "code",
   "execution_count": 21,
   "metadata": {},
   "outputs": [
    {
     "ename": "IndexError",
     "evalue": "no such group",
     "output_type": "error",
     "traceback": [
      "\u001b[1;31m---------------------------------------------------------------------------\u001b[0m",
      "\u001b[1;31mIndexError\u001b[0m                                Traceback (most recent call last)",
      "\u001b[1;32m<ipython-input-21-a3731d5972db>\u001b[0m in \u001b[0;36m<module>\u001b[1;34m\u001b[0m\n\u001b[1;32m----> 1\u001b[1;33m \u001b[0mprint\u001b[0m\u001b[1;33m(\u001b[0m\u001b[0mtollfree_mo\u001b[0m\u001b[1;33m.\u001b[0m\u001b[0mgroup\u001b[0m\u001b[1;33m(\u001b[0m\u001b[1;36m1\u001b[0m\u001b[1;33m)\u001b[0m\u001b[1;33m)\u001b[0m\u001b[1;33m\u001b[0m\u001b[1;33m\u001b[0m\u001b[0m\n\u001b[0m",
      "\u001b[1;31mIndexError\u001b[0m: no such group"
     ]
    }
   ],
   "source": [
    "print(tollfree_mo.group(1))"
   ]
  },
  {
   "cell_type": "code",
   "execution_count": 22,
   "metadata": {},
   "outputs": [],
   "source": [
    "# create the pattern with groups using \"()\"\n",
    "\n",
    "tollfree_po = re.compile('(\\d\\d\\d\\d)-(\\d\\d\\d)-(\\d\\d\\d\\d)')\n",
    "tollfree_mo = tollfree_po.search(text2)"
   ]
  },
  {
   "cell_type": "code",
   "execution_count": 23,
   "metadata": {},
   "outputs": [
    {
     "data": {
      "text/plain": [
       "<re.Match object; span=(112, 125), match='1860-893-3333'>"
      ]
     },
     "execution_count": 23,
     "metadata": {},
     "output_type": "execute_result"
    }
   ],
   "source": [
    "tollfree_mo"
   ]
  },
  {
   "cell_type": "code",
   "execution_count": 25,
   "metadata": {},
   "outputs": [
    {
     "name": "stdout",
     "output_type": "stream",
     "text": [
      "1860-893-3333\n",
      "1860-893-3333\n",
      "1860\n",
      "893\n",
      "3333\n"
     ]
    }
   ],
   "source": [
    "print(tollfree_mo.group())\n",
    "print(tollfree_mo.group(0))\n",
    "print(tollfree_mo.group(1))\n",
    "print(tollfree_mo.group(2))\n",
    "print(tollfree_mo.group(3))"
   ]
  },
  {
   "cell_type": "code",
   "execution_count": 28,
   "metadata": {},
   "outputs": [
    {
     "name": "stdout",
     "output_type": "stream",
     "text": [
      "+917018899999\n",
      "+917018899999\n"
     ]
    }
   ],
   "source": [
    "mobile_po = re.compile('\\+\\d\\d\\d\\d\\d\\d\\d\\d\\d\\d\\d\\d')\n",
    "mobile_mo = mobile_po.search(text2)\n",
    "print(mobile_mo.group())\n",
    "print(mobile_mo.group(0))\n",
    "# print(mobile_mo.group(1))"
   ]
  },
  {
   "cell_type": "code",
   "execution_count": 31,
   "metadata": {},
   "outputs": [
    {
     "name": "stdout",
     "output_type": "stream",
     "text": [
      "+917018899999\n",
      "+917018899999\n",
      "+91\n",
      "7018899999\n"
     ]
    }
   ],
   "source": [
    "mobile_po = re.compile('(\\+\\d\\d)(\\d\\d\\d\\d\\d\\d\\d\\d\\d\\d)')\n",
    "mobile_mo = mobile_po.search(text2)\n",
    "print(mobile_mo.group())\n",
    "print(mobile_mo.group(0))\n",
    "print(mobile_mo.group(1))\n",
    "print(mobile_mo.group(2))"
   ]
  },
  {
   "cell_type": "markdown",
   "metadata": {},
   "source": [
    "##### Macthing parantheses in text"
   ]
  },
  {
   "cell_type": "code",
   "execution_count": 41,
   "metadata": {},
   "outputs": [],
   "source": [
    "text3 = '(accessible only when roaming abroad) (+91)7018899999 (charges applicable)'"
   ]
  },
  {
   "cell_type": "code",
   "execution_count": 43,
   "metadata": {},
   "outputs": [
    {
     "name": "stdout",
     "output_type": "stream",
     "text": [
      "<re.Match object; span=(38, 53), match='(+91)7018899999'>\n",
      "(+91)7018899999\n",
      "(+91)7018899999\n",
      "(+91)\n",
      "7018899999\n"
     ]
    }
   ],
   "source": [
    "mobile_po = re.compile('(\\(\\+\\d\\d\\))(\\d\\d\\d\\d\\d\\d\\d\\d\\d\\d)')\n",
    "mobile_mo = mobile_po.search(text3)\n",
    "print(mobile_mo)\n",
    "print(mobile_mo.group())\n",
    "print(mobile_mo.group(0))\n",
    "print(mobile_mo.group(1))\n",
    "print(mobile_mo.group(2))"
   ]
  },
  {
   "cell_type": "markdown",
   "metadata": {},
   "source": [
    "##### Matching multiple groups with"
   ]
  },
  {
   "cell_type": "code",
   "execution_count": 54,
   "metadata": {},
   "outputs": [],
   "source": [
    "text2 = '''JioCare\n",
    "\n",
    "Our experts are available for your assistance 24x7 (Monday - Sunday) \n",
    "\n",
    "Interested in Jio? Talk to us on\t1860-893-3333\n",
    "For recharge plans, data balance, validity, recharge confirmation & offers\t1991\n",
    "For Queries\t199\n",
    "For Complaints\t198\n",
    "For Other numbers\t1800-889-9999\n",
    "Tele-verification to activate both HD voice & data services\t1977\n",
    "Tele-verification to activate data services only\t1800-890-1977\n",
    "For support on International Roaming\n",
    "(accessible only when roaming abroad) +917018899999 (charges applicable)\n",
    "Device Care Helpline (JioPhone, LYF Mobile & JioFi)\n",
    "\n",
    "Our experts are available for your assistance on all Days, from 9am to 9pm\n",
    "\n",
    "Helpline 1800-890-9999\n",
    "Jio Enterprise Mobility & Business Solutions\n",
    "\n",
    "Our experts are available for your assistance 24x7 (Monday - Sunday)\n",
    "\n",
    "Enterprise Mobility Services 1800-889-9333\n",
    "Enterprise Connectivity Services & Business Solutions\t1800-889-9444\n",
    "New Business Connection\t1800-889-9555\n",
    "Care Helpline for JioFiber Customers\n",
    "\n",
    "Our experts are available for your assistance 24X7 (Monday – Sunday)\n",
    "\n",
    "Helpline 1800-896-9999\n",
    "Online shopping\n",
    "\n",
    "For any online shopping related assistance, reach out to our experts between 9 am to 9 pm (Monday – Sunday)\n",
    "\n",
    "Helpline 1800-893-3399'''"
   ]
  },
  {
   "cell_type": "code",
   "execution_count": 55,
   "metadata": {},
   "outputs": [],
   "source": [
    "tollfree_po = re.compile('(\\d\\d\\d\\d)|(\\d\\d\\d)')\n",
    "\n",
    "tollfree_mo = tollfree_po.search(text2)"
   ]
  },
  {
   "cell_type": "code",
   "execution_count": 56,
   "metadata": {},
   "outputs": [
    {
     "name": "stdout",
     "output_type": "stream",
     "text": [
      "<re.Match object; span=(113, 117), match='1860'>\n"
     ]
    }
   ],
   "source": [
    "print(tollfree_mo)"
   ]
  },
  {
   "cell_type": "code",
   "execution_count": 57,
   "metadata": {},
   "outputs": [
    {
     "name": "stdout",
     "output_type": "stream",
     "text": [
      "1860\n",
      "('1860', None)\n"
     ]
    }
   ],
   "source": [
    "print(tollfree_mo.group())\n",
    "print(tollfree_mo.groups())"
   ]
  },
  {
   "cell_type": "code",
   "execution_count": 59,
   "metadata": {},
   "outputs": [
    {
     "name": "stdout",
     "output_type": "stream",
     "text": [
      "('1860', None, None)\n"
     ]
    }
   ],
   "source": [
    "# adding few more patterns\n",
    "tollfree_po = re.compile('(\\d\\d\\d\\d)|(\\d\\d\\d)|(\\+\\d\\d\\d\\d\\d\\d\\d\\d\\d\\d\\d\\d)')\n",
    "\n",
    "tollfree_mo = tollfree_po.search(text2)\n",
    "\n",
    "print(tollfree_mo.groups())"
   ]
  },
  {
   "cell_type": "markdown",
   "metadata": {},
   "source": [
    "##### Optional matching with ?\n",
    "* the ? character indicates the group () that precedes it as an optional part of the pattern."
   ]
  },
  {
   "cell_type": "code",
   "execution_count": 60,
   "metadata": {},
   "outputs": [],
   "source": [
    "text4 = '''Interested in Jio? Talk to us on\t18608933333 \n",
    "Tele-verification to activate data services only\t1800-890-1977'''"
   ]
  },
  {
   "cell_type": "code",
   "execution_count": 62,
   "metadata": {},
   "outputs": [
    {
     "name": "stdout",
     "output_type": "stream",
     "text": [
      "18608933333\n"
     ]
    }
   ],
   "source": [
    "tollfree_po = re.compile('\\d\\d\\d\\d(-)?\\d\\d\\d(-)?\\d\\d\\d\\d')\n",
    "tollfree_mo = tollfree_po.search(text4)\n",
    "print(tollfree_mo.group())"
   ]
  },
  {
   "cell_type": "markdown",
   "metadata": {},
   "source": [
    "##### Matching zero or more with *\n",
    "* The * character indicates the group () that precedes it can be absent or repeated over and over again."
   ]
  },
  {
   "cell_type": "code",
   "execution_count": 64,
   "metadata": {},
   "outputs": [
    {
     "name": "stdout",
     "output_type": "stream",
     "text": [
      "1860---893---3333\n"
     ]
    }
   ],
   "source": [
    "text4 = '''Interested in Jio? Talk to us on\t1860---893---3333 \n",
    "Tele-verification to activate data services only\t1800-890-1977'''\n",
    "\n",
    "tollfree_po = re.compile('\\d\\d\\d\\d(-)*\\d\\d\\d(-)*\\d\\d\\d\\d')\n",
    "tollfree_mo = tollfree_po.search(text4)\n",
    "print(tollfree_mo.group())"
   ]
  },
  {
   "cell_type": "markdown",
   "metadata": {},
   "source": [
    "##### Matching one or more with +\n",
    "* The + character indicates the group () that precedes it has to be present atleast once or repeated over and over again."
   ]
  },
  {
   "cell_type": "code",
   "execution_count": 67,
   "metadata": {},
   "outputs": [
    {
     "name": "stdout",
     "output_type": "stream",
     "text": [
      "1800-890-1977\n"
     ]
    }
   ],
   "source": [
    "text4 = '''Interested in Jio? Talk to us on 18608933333 \n",
    "Tele-verification to activate data services only 1800-890-1977'''\n",
    "\n",
    "tollfree_po = re.compile('\\d\\d\\d\\d(-)+\\d\\d\\d(-)+\\d\\d\\d\\d')\n",
    "tollfree_mo = tollfree_po.search(text4)\n",
    "print(tollfree_mo.group())"
   ]
  },
  {
   "cell_type": "markdown",
   "metadata": {},
   "source": [
    "##### Matching specific repetitions with {}\n",
    "* The {} braces indicates the group () that precedes it has to be present n number of times, where n is specified in the {}."
   ]
  },
  {
   "cell_type": "code",
   "execution_count": 72,
   "metadata": {},
   "outputs": [
    {
     "ename": "AttributeError",
     "evalue": "'NoneType' object has no attribute 'group'",
     "output_type": "error",
     "traceback": [
      "\u001b[1;31m---------------------------------------------------------------------------\u001b[0m",
      "\u001b[1;31mAttributeError\u001b[0m                            Traceback (most recent call last)",
      "\u001b[1;32m<ipython-input-72-0bb4db1d003b>\u001b[0m in \u001b[0;36m<module>\u001b[1;34m\u001b[0m\n\u001b[0;32m      4\u001b[0m \u001b[0mtollfree_po\u001b[0m \u001b[1;33m=\u001b[0m \u001b[0mre\u001b[0m\u001b[1;33m.\u001b[0m\u001b[0mcompile\u001b[0m\u001b[1;33m(\u001b[0m\u001b[1;34m'\\d\\d\\d\\d(-){2}\\d\\d\\d(-){1}\\d\\d\\d\\d'\u001b[0m\u001b[1;33m)\u001b[0m\u001b[1;33m\u001b[0m\u001b[1;33m\u001b[0m\u001b[0m\n\u001b[0;32m      5\u001b[0m \u001b[0mtollfree_mo\u001b[0m \u001b[1;33m=\u001b[0m \u001b[0mtollfree_po\u001b[0m\u001b[1;33m.\u001b[0m\u001b[0msearch\u001b[0m\u001b[1;33m(\u001b[0m\u001b[0mtext4\u001b[0m\u001b[1;33m)\u001b[0m\u001b[1;33m\u001b[0m\u001b[1;33m\u001b[0m\u001b[0m\n\u001b[1;32m----> 6\u001b[1;33m \u001b[0mprint\u001b[0m\u001b[1;33m(\u001b[0m\u001b[0mtollfree_mo\u001b[0m\u001b[1;33m.\u001b[0m\u001b[0mgroup\u001b[0m\u001b[1;33m(\u001b[0m\u001b[1;33m)\u001b[0m\u001b[1;33m)\u001b[0m\u001b[1;33m\u001b[0m\u001b[1;33m\u001b[0m\u001b[0m\n\u001b[0m",
      "\u001b[1;31mAttributeError\u001b[0m: 'NoneType' object has no attribute 'group'"
     ]
    }
   ],
   "source": [
    "text4 = '''Interested in Jio? Talk to us on 18608933333 \n",
    "Tele-verification to activate data services only 1800-890-1977'''\n",
    "\n",
    "tollfree_po = re.compile('\\d\\d\\d\\d(-){2}\\d\\d\\d(-){1}\\d\\d\\d\\d')\n",
    "tollfree_mo = tollfree_po.search(text4)\n",
    "print(tollfree_mo.group())"
   ]
  },
  {
   "cell_type": "code",
   "execution_count": 73,
   "metadata": {},
   "outputs": [],
   "source": [
    "text4 = '''Interested in Jio? Talk to us on\t18608933333 \n",
    "Tele-verification to activate data services only\t1800-890-1977\n",
    "Enterprise Mobility Services\t1800----889--9333\n",
    "Enterprise Connectivity Services & Business Solutions\t1800--889--9444\n",
    "New Business Connection\t1800-889-9555'''"
   ]
  },
  {
   "cell_type": "code",
   "execution_count": 74,
   "metadata": {},
   "outputs": [
    {
     "name": "stdout",
     "output_type": "stream",
     "text": [
      "1800--889--9444\n"
     ]
    }
   ],
   "source": [
    "tollfree_po = re.compile('\\d\\d\\d\\d(-){2}\\d\\d\\d(-){2}\\d\\d\\d\\d') # {2} --> exactly 2\n",
    "tollfree_mo = tollfree_po.search(text4)\n",
    "print(tollfree_mo.group())"
   ]
  },
  {
   "cell_type": "code",
   "execution_count": 75,
   "metadata": {},
   "outputs": [
    {
     "name": "stdout",
     "output_type": "stream",
     "text": [
      "1800----889--9333\n"
     ]
    }
   ],
   "source": [
    "tollfree_po = re.compile('\\d\\d\\d\\d(-){2,}\\d\\d\\d(-){2,}\\d\\d\\d\\d') # {2,} --> 2 or more\n",
    "tollfree_mo = tollfree_po.search(text4)\n",
    "print(tollfree_mo.group())"
   ]
  },
  {
   "cell_type": "code",
   "execution_count": 76,
   "metadata": {},
   "outputs": [
    {
     "name": "stdout",
     "output_type": "stream",
     "text": [
      "18608933333\n"
     ]
    }
   ],
   "source": [
    "tollfree_po = re.compile('\\d\\d\\d\\d(-){,2}\\d\\d\\d(-){,2}\\d\\d\\d\\d') # {,2} --> 0 to 2\n",
    "tollfree_mo = tollfree_po.search(text4)\n",
    "print(tollfree_mo.group())"
   ]
  },
  {
   "cell_type": "code",
   "execution_count": 77,
   "metadata": {},
   "outputs": [
    {
     "name": "stdout",
     "output_type": "stream",
     "text": [
      "1800----889--9333\n"
     ]
    }
   ],
   "source": [
    "tollfree_po = re.compile('\\d\\d\\d\\d(-){2,5}\\d\\d\\d(-){2,5}\\d\\d\\d\\d') # {2,5} --> 2 to 5\n",
    "tollfree_mo = tollfree_po.search(text4)\n",
    "print(tollfree_mo.group())"
   ]
  },
  {
   "cell_type": "markdown",
   "metadata": {},
   "source": [
    "##### findall() method\n",
    "* search() returns the match object of the first matched text,where as findall() returns strings for every match."
   ]
  },
  {
   "cell_type": "code",
   "execution_count": 78,
   "metadata": {
    "scrolled": true
   },
   "outputs": [
    {
     "name": "stdout",
     "output_type": "stream",
     "text": [
      "JioCare\n",
      "\n",
      "Our experts are available for your assistance 24x7 (Monday - Sunday) \n",
      "\n",
      "Interested in Jio? Talk to us on\t1860-893-3333\n",
      "For recharge plans, data balance, validity, recharge confirmation & offers\t1991\n",
      "For Queries\t199\n",
      "For Complaints\t198\n",
      "For Other numbers\t1800-889-9999\n",
      "Tele-verification to activate both HD voice & data services\t1977\n",
      "Tele-verification to activate data services only\t1800-890-1977\n",
      "For support on International Roaming\n",
      "(accessible only when roaming abroad) +917018899999 (charges applicable)\n",
      "Device Care Helpline (JioPhone, LYF Mobile & JioFi)\n",
      "\n",
      "Our experts are available for your assistance on all Days, from 9am to 9pm\n",
      "\n",
      "Helpline 1800-890-9999\n",
      "Jio Enterprise Mobility & Business Solutions\n",
      "\n",
      "Our experts are available for your assistance 24x7 (Monday - Sunday)\n",
      "\n",
      "Enterprise Mobility Services 1800-889-9333\n",
      "Enterprise Connectivity Services & Business Solutions\t1800-889-9444\n",
      "New Business Connection\t1800-889-9555\n",
      "Care Helpline for JioFiber Customers\n",
      "\n",
      "Our experts are available for your assistance 24X7 (Monday – Sunday)\n",
      "\n",
      "Helpline 1800-896-9999\n",
      "Online shopping\n",
      "\n",
      "For any online shopping related assistance, reach out to our experts between 9 am to 9 pm (Monday – Sunday)\n",
      "\n",
      "Helpline 1800-893-3399\n"
     ]
    }
   ],
   "source": [
    "print(text2)"
   ]
  },
  {
   "cell_type": "code",
   "execution_count": 85,
   "metadata": {},
   "outputs": [],
   "source": [
    "tollfree_po = re.compile('\\d\\d\\d\\d-\\d\\d\\d-\\d\\d\\d\\d')\n",
    "\n",
    "tollfree_mo = tollfree_po.search(text2)"
   ]
  },
  {
   "cell_type": "code",
   "execution_count": 86,
   "metadata": {},
   "outputs": [
    {
     "name": "stdout",
     "output_type": "stream",
     "text": [
      "()\n"
     ]
    }
   ],
   "source": [
    "print(tollfree_mo.groups())"
   ]
  },
  {
   "cell_type": "code",
   "execution_count": 87,
   "metadata": {},
   "outputs": [
    {
     "data": {
      "text/plain": [
       "['1860-893-3333',\n",
       " '1800-889-9999',\n",
       " '1800-890-1977',\n",
       " '1800-890-9999',\n",
       " '1800-889-9333',\n",
       " '1800-889-9444',\n",
       " '1800-889-9555',\n",
       " '1800-896-9999',\n",
       " '1800-893-3399']"
      ]
     },
     "execution_count": 87,
     "metadata": {},
     "output_type": "execute_result"
    }
   ],
   "source": [
    "tollfree_po.findall(text2)"
   ]
  },
  {
   "cell_type": "code",
   "execution_count": 88,
   "metadata": {},
   "outputs": [
    {
     "data": {
      "text/plain": [
       "['1860-893-3333',\n",
       " '1800-889-9999',\n",
       " '1800-890-1977',\n",
       " '+917018899999',\n",
       " '1800-890-9999',\n",
       " '1800-889-9333',\n",
       " '1800-889-9444',\n",
       " '1800-889-9555',\n",
       " '1800-896-9999',\n",
       " '1800-893-3399']"
      ]
     },
     "execution_count": 88,
     "metadata": {},
     "output_type": "execute_result"
    }
   ],
   "source": [
    "tollfree_po = re.compile('\\d{4}-\\d{3}-\\d{4}|\\+\\d{12}')\n",
    "tollfree_po.findall(text2)"
   ]
  },
  {
   "cell_type": "markdown",
   "metadata": {},
   "source": [
    "###### Character classes\n",
    "* \\d - Any numeric digit from 0 to 9.\n",
    "* \\D - Any character that is not a numeric digit (from 0 to 9).\n",
    "* \\w - Any character which is an alphabet or numeric digit or underscore (_).\n",
    "* \\W - Any character which is not an alphabet or numeric digit or underscore (_).\n",
    "* \\s - Any space or tab space or newline.\n",
    "* \\S - Any character which is not a space or tab space or newline.\n",
    "* \\b - Word boundary. This matches the beginning and end of a word."
   ]
  },
  {
   "cell_type": "code",
   "execution_count": 89,
   "metadata": {},
   "outputs": [
    {
     "name": "stdout",
     "output_type": "stream",
     "text": [
      "['2', '4', '7', '1', '8', '6', '0', '8', '9', '3', '3', '3', '3', '3', '1', '9', '9', '1', '1', '9', '9', '1', '9', '8', '1', '8', '0', '0', '8', '8', '9', '9', '9', '9', '9', '1', '9', '7', '7', '1', '8', '0', '0', '8', '9', '0', '1', '9', '7', '7', '9', '1', '7', '0', '1', '8', '8', '9', '9', '9', '9', '9', '9', '9', '1', '8', '0', '0', '8', '9', '0', '9', '9', '9', '9', '2', '4', '7', '1', '8', '0', '0', '8', '8', '9', '9', '3', '3', '3', '1', '8', '0', '0', '8', '8', '9', '9', '4', '4', '4', '1', '8', '0', '0', '8', '8', '9', '9', '5', '5', '5', '2', '4', '7', '1', '8', '0', '0', '8', '9', '6', '9', '9', '9', '9', '9', '9', '1', '8', '0', '0', '8', '9', '3', '3', '3', '9', '9']\n"
     ]
    }
   ],
   "source": [
    "po = re.compile('\\d')\n",
    "print(po.findall(text2))"
   ]
  },
  {
   "cell_type": "code",
   "execution_count": 90,
   "metadata": {},
   "outputs": [
    {
     "name": "stdout",
     "output_type": "stream",
     "text": [
      "['24', '7', '1860', '893', '3333', '1991', '199', '198', '1800', '889', '9999', '1977', '1800', '890', '1977', '917018899999', '9', '9', '1800', '890', '9999', '24', '7', '1800', '889', '9333', '1800', '889', '9444', '1800', '889', '9555', '24', '7', '1800', '896', '9999', '9', '9', '1800', '893', '3399']\n"
     ]
    }
   ],
   "source": [
    "po = re.compile('\\d+')\n",
    "print(po.findall(text2))"
   ]
  },
  {
   "cell_type": "code",
   "execution_count": 93,
   "metadata": {},
   "outputs": [
    {
     "name": "stdout",
     "output_type": "stream",
     "text": [
      "['JioCare\\n\\nOur experts are available for your assistance ', 'x', ' (Monday - Sunday) \\n\\nInterested in Jio? Talk to us on\\t', '-', '-', '\\nFor recharge plans, data balance, validity, recharge confirmation & offers\\t', '\\nFor Queries\\t', '\\nFor Complaints\\t', '\\nFor Other numbers\\t', '-', '-', '\\nTele-verification to activate both HD voice & data services\\t', '\\nTele-verification to activate data services only\\t', '-', '-', '\\nFor support on International Roaming\\n(accessible only when roaming abroad) +', ' (charges applicable)\\nDevice Care Helpline (JioPhone, LYF Mobile & JioFi)\\n\\nOur experts are available for your assistance on all Days, from ', 'am to ', 'pm\\n\\nHelpline ', '-', '-', '\\nJio Enterprise Mobility & Business Solutions\\n\\nOur experts are available for your assistance ', 'x', ' (Monday - Sunday)\\n\\nEnterprise Mobility Services ', '-', '-', '\\nEnterprise Connectivity Services & Business Solutions\\t', '-', '-', '\\nNew Business Connection\\t', '-', '-', '\\nCare Helpline for JioFiber Customers\\n\\nOur experts are available for your assistance ', 'X', ' (Monday – Sunday)\\n\\nHelpline ', '-', '-', '\\nOnline shopping\\n\\nFor any online shopping related assistance, reach out to our experts between ', ' am to ', ' pm (Monday – Sunday)\\n\\nHelpline ', '-', '-']\n"
     ]
    }
   ],
   "source": [
    "po = re.compile('\\D+') # Any character that is not a numeric digit (from 0 to 9)\n",
    "print(po.findall(text2))"
   ]
  },
  {
   "cell_type": "code",
   "execution_count": 95,
   "metadata": {},
   "outputs": [
    {
     "name": "stdout",
     "output_type": "stream",
     "text": [
      "['JioCare', 'Our', 'experts', 'are', 'available', 'for', 'your', 'assistance', '24x7', 'Monday', 'Sunday', 'Interested', 'in', 'Jio', 'Talk', 'to', 'us', 'on', '1860', '893', '3333', 'For', 'recharge', 'plans', 'data', 'balance', 'validity', 'recharge', 'confirmation', 'offers', '1991', 'For', 'Queries', '199', 'For', 'Complaints', '198', 'For', 'Other', 'numbers', '1800', '889', '9999', 'Tele', 'verification', 'to', 'activate', 'both', 'HD', 'voice', 'data', 'services', '1977', 'Tele', 'verification', 'to', 'activate', 'data', 'services', 'only', '1800', '890', '1977', 'For', 'support', 'on', 'International', 'Roaming', 'accessible', 'only', 'when', 'roaming', 'abroad', '917018899999', 'charges', 'applicable', 'Device', 'Care', 'Helpline', 'JioPhone', 'LYF', 'Mobile', 'JioFi', 'Our', 'experts', 'are', 'available', 'for', 'your', 'assistance', 'on', 'all', 'Days', 'from', '9am', 'to', '9pm', 'Helpline', '1800', '890', '9999', 'Jio', 'Enterprise', 'Mobility', 'Business', 'Solutions', 'Our', 'experts', 'are', 'available', 'for', 'your', 'assistance', '24x7', 'Monday', 'Sunday', 'Enterprise', 'Mobility', 'Services', '1800', '889', '9333', 'Enterprise', 'Connectivity', 'Services', 'Business', 'Solutions', '1800', '889', '9444', 'New', 'Business', 'Connection', '1800', '889', '9555', 'Care', 'Helpline', 'for', 'JioFiber', 'Customers', 'Our', 'experts', 'are', 'available', 'for', 'your', 'assistance', '24X7', 'Monday', 'Sunday', 'Helpline', '1800', '896', '9999', 'Online', 'shopping', 'For', 'any', 'online', 'shopping', 'related', 'assistance', 'reach', 'out', 'to', 'our', 'experts', 'between', '9', 'am', 'to', '9', 'pm', 'Monday', 'Sunday', 'Helpline', '1800', '893', '3399']\n"
     ]
    }
   ],
   "source": [
    "po = re.compile('\\w+') # Any character which is an alphabet or numeric digit or underscore (_).\n",
    "print(po.findall(text2))"
   ]
  },
  {
   "cell_type": "code",
   "execution_count": 97,
   "metadata": {},
   "outputs": [
    {
     "name": "stdout",
     "output_type": "stream",
     "text": [
      "['\\n\\n', ' ', ' ', ' ', ' ', ' ', ' ', ' ', ' (', ' - ', ') \\n\\n', ' ', ' ', '? ', ' ', ' ', ' ', '\\t', '-', '-', '\\n', ' ', ' ', ', ', ' ', ', ', ', ', ' ', ' & ', '\\t', '\\n', ' ', '\\t', '\\n', ' ', '\\t', '\\n', ' ', ' ', '\\t', '-', '-', '\\n', '-', ' ', ' ', ' ', ' ', ' ', ' & ', ' ', '\\t', '\\n', '-', ' ', ' ', ' ', ' ', ' ', '\\t', '-', '-', '\\n', ' ', ' ', ' ', ' ', '\\n(', ' ', ' ', ' ', ' ', ') +', ' (', ' ', ')\\n', ' ', ' ', ' (', ', ', ' ', ' & ', ')\\n\\n', ' ', ' ', ' ', ' ', ' ', ' ', ' ', ' ', ' ', ', ', ' ', ' ', ' ', '\\n\\n', ' ', '-', '-', '\\n', ' ', ' ', ' & ', ' ', '\\n\\n', ' ', ' ', ' ', ' ', ' ', ' ', ' ', ' (', ' - ', ')\\n\\n', ' ', ' ', ' ', '-', '-', '\\n', ' ', ' ', ' & ', ' ', '\\t', '-', '-', '\\n', ' ', ' ', '\\t', '-', '-', '\\n', ' ', ' ', ' ', ' ', '\\n\\n', ' ', ' ', ' ', ' ', ' ', ' ', ' ', ' (', ' – ', ')\\n\\n', ' ', '-', '-', '\\n', ' ', '\\n\\n', ' ', ' ', ' ', ' ', ' ', ', ', ' ', ' ', ' ', ' ', ' ', ' ', ' ', ' ', ' ', ' ', ' (', ' – ', ')\\n\\n', ' ', '-', '-']\n"
     ]
    }
   ],
   "source": [
    "po = re.compile('\\W+') # Any character which is not an alphabet or numeric digit or underscore (_).\n",
    "print(po.findall(text2))"
   ]
  },
  {
   "cell_type": "code",
   "execution_count": 100,
   "metadata": {},
   "outputs": [
    {
     "name": "stdout",
     "output_type": "stream",
     "text": [
      "['\\n\\n', ' ', ' ', ' ', ' ', ' ', ' ', ' ', ' ', ' ', ' ', ' \\n\\n', ' ', ' ', ' ', ' ', ' ', ' ', '\\t', '\\n', ' ', ' ', ' ', ' ', ' ', ' ', ' ', ' ', ' ', '\\t', '\\n', ' ', '\\t', '\\n', ' ', '\\t', '\\n', ' ', ' ', '\\t', '\\n', ' ', ' ', ' ', ' ', ' ', ' ', ' ', ' ', '\\t', '\\n', ' ', ' ', ' ', ' ', ' ', '\\t', '\\n', ' ', ' ', ' ', ' ', '\\n', ' ', ' ', ' ', ' ', ' ', ' ', ' ', '\\n', ' ', ' ', ' ', ' ', ' ', ' ', ' ', '\\n\\n', ' ', ' ', ' ', ' ', ' ', ' ', ' ', ' ', ' ', ' ', ' ', ' ', ' ', '\\n\\n', ' ', '\\n', ' ', ' ', ' ', ' ', ' ', '\\n\\n', ' ', ' ', ' ', ' ', ' ', ' ', ' ', ' ', ' ', ' ', '\\n\\n', ' ', ' ', ' ', '\\n', ' ', ' ', ' ', ' ', ' ', '\\t', '\\n', ' ', ' ', '\\t', '\\n', ' ', ' ', ' ', ' ', '\\n\\n', ' ', ' ', ' ', ' ', ' ', ' ', ' ', ' ', ' ', ' ', '\\n\\n', ' ', '\\n', ' ', '\\n\\n', ' ', ' ', ' ', ' ', ' ', ' ', ' ', ' ', ' ', ' ', ' ', ' ', ' ', ' ', ' ', ' ', ' ', ' ', ' ', '\\n\\n', ' ']\n"
     ]
    }
   ],
   "source": [
    "# \\s - Any space or tab space or newline.\n",
    "po = re.compile('\\s+')\n",
    "print(po.findall(text2))"
   ]
  },
  {
   "cell_type": "code",
   "execution_count": 101,
   "metadata": {},
   "outputs": [
    {
     "name": "stdout",
     "output_type": "stream",
     "text": [
      "['JioCare', 'Our', 'experts', 'are', 'available', 'for', 'your', 'assistance', '24x7', '(Monday', '-', 'Sunday)', 'Interested', 'in', 'Jio?', 'Talk', 'to', 'us', 'on', '1860-893-3333', 'For', 'recharge', 'plans,', 'data', 'balance,', 'validity,', 'recharge', 'confirmation', '&', 'offers', '1991', 'For', 'Queries', '199', 'For', 'Complaints', '198', 'For', 'Other', 'numbers', '1800-889-9999', 'Tele-verification', 'to', 'activate', 'both', 'HD', 'voice', '&', 'data', 'services', '1977', 'Tele-verification', 'to', 'activate', 'data', 'services', 'only', '1800-890-1977', 'For', 'support', 'on', 'International', 'Roaming', '(accessible', 'only', 'when', 'roaming', 'abroad)', '+917018899999', '(charges', 'applicable)', 'Device', 'Care', 'Helpline', '(JioPhone,', 'LYF', 'Mobile', '&', 'JioFi)', 'Our', 'experts', 'are', 'available', 'for', 'your', 'assistance', 'on', 'all', 'Days,', 'from', '9am', 'to', '9pm', 'Helpline', '1800-890-9999', 'Jio', 'Enterprise', 'Mobility', '&', 'Business', 'Solutions', 'Our', 'experts', 'are', 'available', 'for', 'your', 'assistance', '24x7', '(Monday', '-', 'Sunday)', 'Enterprise', 'Mobility', 'Services', '1800-889-9333', 'Enterprise', 'Connectivity', 'Services', '&', 'Business', 'Solutions', '1800-889-9444', 'New', 'Business', 'Connection', '1800-889-9555', 'Care', 'Helpline', 'for', 'JioFiber', 'Customers', 'Our', 'experts', 'are', 'available', 'for', 'your', 'assistance', '24X7', '(Monday', '–', 'Sunday)', 'Helpline', '1800-896-9999', 'Online', 'shopping', 'For', 'any', 'online', 'shopping', 'related', 'assistance,', 'reach', 'out', 'to', 'our', 'experts', 'between', '9', 'am', 'to', '9', 'pm', '(Monday', '–', 'Sunday)', 'Helpline', '1800-893-3399']\n"
     ]
    }
   ],
   "source": [
    "# \\S - Any character which is not a space or tab space or newline.\n",
    "po = re.compile('\\S+')\n",
    "print(po.findall(text2))"
   ]
  },
  {
   "cell_type": "code",
   "execution_count": 102,
   "metadata": {},
   "outputs": [
    {
     "data": {
      "text/plain": [
       "['3333\\nFor',\n",
       " '1991\\nFor',\n",
       " '199\\nFor',\n",
       " '198\\nFor',\n",
       " '9999\\nTele',\n",
       " '1977\\nTele',\n",
       " '1977\\nFor',\n",
       " '9999\\nJio',\n",
       " '9333\\nEnterprise',\n",
       " '9444\\nNew',\n",
       " '9555\\nCare',\n",
       " '9999\\nOnline',\n",
       " '9 am',\n",
       " '9 pm']"
      ]
     },
     "execution_count": 102,
     "metadata": {},
     "output_type": "execute_result"
    }
   ],
   "source": [
    "po = re.compile('\\d+\\s\\w+')\n",
    "po.findall(text2)"
   ]
  },
  {
   "cell_type": "code",
   "execution_count": 104,
   "metadata": {},
   "outputs": [
    {
     "data": {
      "text/plain": [
       "['Monday - Sunday',\n",
       " 'accessible only when roaming abroad',\n",
       " 'charges applicable)\\nDevice Care Helpline (JioPhone, LYF Mobile & JioFi',\n",
       " 'Monday - Sunday',\n",
       " 'Monday – Sunday',\n",
       " 'Monday – Sunday']"
      ]
     },
     "execution_count": 104,
     "metadata": {},
     "output_type": "execute_result"
    }
   ],
   "source": [
    "po = re.compile('\\((\\w+\\D+)\\)')\n",
    "po.findall(text2)"
   ]
  },
  {
   "cell_type": "markdown",
   "metadata": {},
   "source": [
    "##### Matching a set of chararcters using []"
   ]
  },
  {
   "cell_type": "code",
   "execution_count": 110,
   "metadata": {},
   "outputs": [
    {
     "name": "stdout",
     "output_type": "stream",
     "text": [
      "['JioCare', 'Our', 'experts', 'are', 'available', 'for', 'your', 'assistance', '24x7', 'Monday', 'Sunday', 'Interested', 'in', 'Jio', 'Talk', 'to', 'us', 'on', '1860', '893', '3333', 'For', 'recharge', 'plans', 'data', 'balance', 'validity', 'recharge', 'confirmation', 'offers', '1991', 'For', 'Queries', '199', 'For', 'Complaints', '198', 'For', 'Other', 'numbers', '1800', '889', '9999', 'Tele', 'verification', 'to', 'activate', 'both', 'HD', 'voice', 'data', 'services', '1977', 'Tele', 'verification', 'to', 'activate', 'data', 'services', 'only', '1800', '890', '1977', 'For', 'support', 'on', 'International', 'Roaming', 'accessible', 'only', 'when', 'roaming', 'abroad', '917018899999', 'charges', 'applicable', 'Device', 'Care', 'Helpline', 'JioPhone', 'LYF', 'Mobile', 'JioFi', 'Our', 'experts', 'are', 'available', 'for', 'your', 'assistance', 'on', 'all', 'Days', 'from', '9am', 'to', '9pm', 'Helpline', '1800', '890', '9999', 'Jio', 'Enterprise', 'Mobility', 'Business', 'Solutions', 'Our', 'experts', 'are', 'available', 'for', 'your', 'assistance', '24x7', 'Monday', 'Sunday', 'Enterprise', 'Mobility', 'Services', '1800', '889', '9333', 'Enterprise', 'Connectivity', 'Services', 'Business', 'Solutions', '1800', '889', '9444', 'New', 'Business', 'Connection', '1800', '889', '9555', 'Care', 'Helpline', 'for', 'JioFiber', 'Customers', 'Our', 'experts', 'are', 'available', 'for', 'your', 'assistance', '24X7', 'Monday', 'Sunday', 'Helpline', '1800', '896', '9999', 'Online', 'shopping', 'For', 'any', 'online', 'shopping', 'related', 'assistance', 'reach', 'out', 'to', 'our', 'experts', 'between', '9', 'am', 'to', '9', 'pm', 'Monday', 'Sunday', 'Helpline', '1800', '893', '3399']\n"
     ]
    }
   ],
   "source": [
    "myregex = re.compile('[a-zA-Z0-9]+')\n",
    "print(myregex.findall(text2))"
   ]
  },
  {
   "cell_type": "code",
   "execution_count": 111,
   "metadata": {},
   "outputs": [
    {
     "name": "stdout",
     "output_type": "stream",
     "text": [
      "['assistance', 'Interested', 'confirmati', 'Complaints', 'verificati', 'verificati', 'Internatio', 'accessible', 'applicable', 'assistance', 'Enterprise', 'assistance', 'Enterprise', 'Enterprise', 'Connectivi', 'Connection', 'assistance', 'assistance']\n"
     ]
    }
   ],
   "source": [
    "myregex = re.compile('[a-zA-Z]{10}')\n",
    "print(myregex.findall(text2))"
   ]
  },
  {
   "cell_type": "code",
   "execution_count": 116,
   "metadata": {},
   "outputs": [
    {
     "name": "stdout",
     "output_type": "stream",
     "text": [
      "[' assistance ', '\\nInterested ', ' confirmation ', ' Complaints\\t', ' International ', ' assistance ', ' Enterprise ', ' assistance ', '\\nEnterprise ', '\\nEnterprise ', ' Connection\\t', ' assistance ']\n"
     ]
    }
   ],
   "source": [
    "myregex = re.compile(r'\\s[a-zA-Z]{10,}\\s')\n",
    "print(myregex.findall(text2))"
   ]
  },
  {
   "cell_type": "code",
   "execution_count": 117,
   "metadata": {},
   "outputs": [
    {
     "name": "stdout",
     "output_type": "stream",
     "text": [
      "['assistance', 'Interested', 'confirmation', 'Complaints', 'verification', 'verification', 'International', 'accessible', 'applicable', 'assistance', 'Enterprise', 'assistance', 'Enterprise', 'Enterprise', 'Connectivity', 'Connection', 'assistance', 'assistance']\n"
     ]
    }
   ],
   "source": [
    "myregex = re.compile(r'\\b[a-zA-Z]{10,}\\b')\n",
    "print(myregex.findall(text2))"
   ]
  },
  {
   "cell_type": "markdown",
   "metadata": {},
   "source": [
    "##### ^ (Beginning) and $ (End)"
   ]
  },
  {
   "cell_type": "code",
   "execution_count": 119,
   "metadata": {},
   "outputs": [
    {
     "data": {
      "text/plain": [
       "'JioCare\\n\\nOur experts are available for your assistance 24x7 (Monday - Sunday) \\n\\nInterested in Jio? Talk to us on\\t1860-893-3333\\nFor recharge plans, data balance, validity, recharge confirmation & offers\\t1991\\nFor Queries\\t199\\nFor Complaints\\t198\\nFor Other numbers\\t1800-889-9999\\nTele-verification to activate both HD voice & data services\\t1977\\nTele-verification to activate data services only\\t1800-890-1977\\nFor support on International Roaming\\n(accessible only when roaming abroad) +917018899999 (charges applicable)\\nDevice Care Helpline (JioPhone, LYF Mobile & JioFi)\\n\\nOur experts are available for your assistance on all Days, from 9am to 9pm\\n\\nHelpline 1800-890-9999\\nJio Enterprise Mobility & Business Solutions\\n\\nOur experts are available for your assistance 24x7 (Monday - Sunday)\\n\\nEnterprise Mobility Services 1800-889-9333\\nEnterprise Connectivity Services & Business Solutions\\t1800-889-9444\\nNew Business Connection\\t1800-889-9555\\nCare Helpline for JioFiber Customers\\n\\nOur experts are available for your assistance 24X7 (Monday – Sunday)\\n\\nHelpline 1800-896-9999\\nOnline shopping\\n\\nFor any online shopping related assistance, reach out to our experts between 9 am to 9 pm (Monday – Sunday)\\n\\nHelpline 1800-893-3399'"
      ]
     },
     "execution_count": 119,
     "metadata": {},
     "output_type": "execute_result"
    }
   ],
   "source": [
    "text2"
   ]
  },
  {
   "cell_type": "code",
   "execution_count": 118,
   "metadata": {},
   "outputs": [
    {
     "data": {
      "text/plain": [
       "['JioCare']"
      ]
     },
     "execution_count": 118,
     "metadata": {},
     "output_type": "execute_result"
    }
   ],
   "source": [
    "myregex = re.compile('^\\w+', re.I) # re.I --> IGNORECASE\n",
    "myregex.findall(text2)"
   ]
  },
  {
   "cell_type": "code",
   "execution_count": 120,
   "metadata": {},
   "outputs": [
    {
     "data": {
      "text/plain": [
       "['3399']"
      ]
     },
     "execution_count": 120,
     "metadata": {},
     "output_type": "execute_result"
    }
   ],
   "source": [
    "myregex = re.compile('\\w+$')\n",
    "myregex.findall(text2)"
   ]
  },
  {
   "cell_type": "markdown",
   "metadata": {},
   "source": [
    "##### Wildcard (.)"
   ]
  },
  {
   "cell_type": "code",
   "execution_count": 121,
   "metadata": {},
   "outputs": [
    {
     "data": {
      "text/plain": [
       "['dat', 'mat', 'cat', 'vat', 'dat', 'cat', 'vat', 'dat', 'nat', 'lat']"
      ]
     },
     "execution_count": 121,
     "metadata": {},
     "output_type": "execute_result"
    }
   ],
   "source": [
    "myregex = re.compile('.at')\n",
    "myregex.findall(text2)"
   ]
  },
  {
   "cell_type": "code",
   "execution_count": 123,
   "metadata": {},
   "outputs": [
    {
     "data": {
      "text/plain": [
       "[' dat',\n",
       " 'rmat',\n",
       " 'icat',\n",
       " 'ivat',\n",
       " ' dat',\n",
       " 'icat',\n",
       " 'ivat',\n",
       " ' dat',\n",
       " 'rnat',\n",
       " 'elat']"
      ]
     },
     "execution_count": 123,
     "metadata": {},
     "output_type": "execute_result"
    }
   ],
   "source": [
    "myregex = re.compile('..at')\n",
    "myregex.findall(text2)"
   ]
  },
  {
   "cell_type": "code",
   "execution_count": 124,
   "metadata": {},
   "outputs": [
    {
     "data": {
      "text/plain": [
       "[' Jio? ',\n",
       " 'ation ',\n",
       " 'ation ',\n",
       " 'ation ',\n",
       " 'ationa',\n",
       " '(JioPh',\n",
       " ' JioFi',\n",
       " 'utions',\n",
       " 'utions',\n",
       " 'ction\\t',\n",
       " ' JioFi']"
      ]
     },
     "execution_count": 124,
     "metadata": {},
     "output_type": "execute_result"
    }
   ],
   "source": [
    "myregex = re.compile('..io..')\n",
    "myregex.findall(text2)"
   ]
  },
  {
   "cell_type": "markdown",
   "metadata": {},
   "source": [
    "##### sub() method"
   ]
  },
  {
   "cell_type": "code",
   "execution_count": 125,
   "metadata": {
    "scrolled": true
   },
   "outputs": [
    {
     "name": "stdout",
     "output_type": "stream",
     "text": [
      "['24', '7', '1860', '893', '3333', '1991', '199', '198', '1800', '889', '9999', '1977', '1800', '890', '1977', '917018899999', '9', '9', '1800', '890', '9999', '24', '7', '1800', '889', '9333', '1800', '889', '9444', '1800', '889', '9555', '24', '7', '1800', '896', '9999', '9', '9', '1800', '893', '3399']\n"
     ]
    }
   ],
   "source": [
    "myregex = re.compile('\\d+')\n",
    "print(myregex.findall(text2))"
   ]
  },
  {
   "cell_type": "code",
   "execution_count": 128,
   "metadata": {},
   "outputs": [
    {
     "name": "stdout",
     "output_type": "stream",
     "text": [
      "JioCare\n",
      "\n",
      "Our experts are available for your assistance 24x7 (Monday - Sunday) \n",
      "\n",
      "Interested in Jio? Talk to us on\t1860-893-3333\n",
      "For recharge plans, data balance, validity, recharge confirmation & offers\t1991\n",
      "For Queries\t199\n",
      "For Complaints\t198\n",
      "For Other numbers\t1800-889-9999\n",
      "Tele-verification to activate both HD voice & data services\t1977\n",
      "Tele-verification to activate data services only\t1800-890-1977\n",
      "For support on International Roaming\n",
      "(accessible only when roaming abroad) +917018899999 (charges applicable)\n",
      "Device Care Helpline (JioPhone, LYF Mobile & JioFi)\n",
      "\n",
      "Our experts are available for your assistance on all Days, from 9am to 9pm\n",
      "\n",
      "Helpline 1800-890-9999\n",
      "Jio Enterprise Mobility & Business Solutions\n",
      "\n",
      "Our experts are available for your assistance 24x7 (Monday - Sunday)\n",
      "\n",
      "Enterprise Mobility Services 1800-889-9333\n",
      "Enterprise Connectivity Services & Business Solutions\t1800-889-9444\n",
      "New Business Connection\t1800-889-9555\n",
      "Care Helpline for JioFiber Customers\n",
      "\n",
      "Our experts are available for your assistance 24X7 (Monday – Sunday)\n",
      "\n",
      "Helpline 1800-896-9999\n",
      "Online shopping\n",
      "\n",
      "For any online shopping related assistance, reach out to our experts between 9 am to 9 pm (Monday – Sunday)\n",
      "\n",
      "Helpline 1800-893-3399\n"
     ]
    }
   ],
   "source": [
    "print(text2)"
   ]
  },
  {
   "cell_type": "code",
   "execution_count": null,
   "metadata": {
    "scrolled": true
   },
   "outputs": [],
   "source": [
    "myregex.sub('---', text2)"
   ]
  },
  {
   "cell_type": "markdown",
   "metadata": {},
   "source": [
    "##### split() method"
   ]
  },
  {
   "cell_type": "code",
   "execution_count": 130,
   "metadata": {},
   "outputs": [],
   "source": [
    "myregex = re.compile('\\s')"
   ]
  },
  {
   "cell_type": "code",
   "execution_count": 131,
   "metadata": {},
   "outputs": [
    {
     "data": {
      "text/plain": [
       "['JioCare',\n",
       " '',\n",
       " 'Our',\n",
       " 'experts',\n",
       " 'are',\n",
       " 'available',\n",
       " 'for',\n",
       " 'your',\n",
       " 'assistance',\n",
       " '24x7',\n",
       " '(Monday',\n",
       " '-',\n",
       " 'Sunday)',\n",
       " '',\n",
       " '',\n",
       " 'Interested',\n",
       " 'in',\n",
       " 'Jio?',\n",
       " 'Talk',\n",
       " 'to',\n",
       " 'us',\n",
       " 'on',\n",
       " '1860-893-3333',\n",
       " 'For',\n",
       " 'recharge',\n",
       " 'plans,',\n",
       " 'data',\n",
       " 'balance,',\n",
       " 'validity,',\n",
       " 'recharge',\n",
       " 'confirmation',\n",
       " '&',\n",
       " 'offers',\n",
       " '1991',\n",
       " 'For',\n",
       " 'Queries',\n",
       " '199',\n",
       " 'For',\n",
       " 'Complaints',\n",
       " '198',\n",
       " 'For',\n",
       " 'Other',\n",
       " 'numbers',\n",
       " '1800-889-9999',\n",
       " 'Tele-verification',\n",
       " 'to',\n",
       " 'activate',\n",
       " 'both',\n",
       " 'HD',\n",
       " 'voice',\n",
       " '&',\n",
       " 'data',\n",
       " 'services',\n",
       " '1977',\n",
       " 'Tele-verification',\n",
       " 'to',\n",
       " 'activate',\n",
       " 'data',\n",
       " 'services',\n",
       " 'only',\n",
       " '1800-890-1977',\n",
       " 'For',\n",
       " 'support',\n",
       " 'on',\n",
       " 'International',\n",
       " 'Roaming',\n",
       " '(accessible',\n",
       " 'only',\n",
       " 'when',\n",
       " 'roaming',\n",
       " 'abroad)',\n",
       " '+917018899999',\n",
       " '(charges',\n",
       " 'applicable)',\n",
       " 'Device',\n",
       " 'Care',\n",
       " 'Helpline',\n",
       " '(JioPhone,',\n",
       " 'LYF',\n",
       " 'Mobile',\n",
       " '&',\n",
       " 'JioFi)',\n",
       " '',\n",
       " 'Our',\n",
       " 'experts',\n",
       " 'are',\n",
       " 'available',\n",
       " 'for',\n",
       " 'your',\n",
       " 'assistance',\n",
       " 'on',\n",
       " 'all',\n",
       " 'Days,',\n",
       " 'from',\n",
       " '9am',\n",
       " 'to',\n",
       " '9pm',\n",
       " '',\n",
       " 'Helpline',\n",
       " '1800-890-9999',\n",
       " 'Jio',\n",
       " 'Enterprise',\n",
       " 'Mobility',\n",
       " '&',\n",
       " 'Business',\n",
       " 'Solutions',\n",
       " '',\n",
       " 'Our',\n",
       " 'experts',\n",
       " 'are',\n",
       " 'available',\n",
       " 'for',\n",
       " 'your',\n",
       " 'assistance',\n",
       " '24x7',\n",
       " '(Monday',\n",
       " '-',\n",
       " 'Sunday)',\n",
       " '',\n",
       " 'Enterprise',\n",
       " 'Mobility',\n",
       " 'Services',\n",
       " '1800-889-9333',\n",
       " 'Enterprise',\n",
       " 'Connectivity',\n",
       " 'Services',\n",
       " '&',\n",
       " 'Business',\n",
       " 'Solutions',\n",
       " '1800-889-9444',\n",
       " 'New',\n",
       " 'Business',\n",
       " 'Connection',\n",
       " '1800-889-9555',\n",
       " 'Care',\n",
       " 'Helpline',\n",
       " 'for',\n",
       " 'JioFiber',\n",
       " 'Customers',\n",
       " '',\n",
       " 'Our',\n",
       " 'experts',\n",
       " 'are',\n",
       " 'available',\n",
       " 'for',\n",
       " 'your',\n",
       " 'assistance',\n",
       " '24X7',\n",
       " '(Monday',\n",
       " '–',\n",
       " 'Sunday)',\n",
       " '',\n",
       " 'Helpline',\n",
       " '1800-896-9999',\n",
       " 'Online',\n",
       " 'shopping',\n",
       " '',\n",
       " 'For',\n",
       " 'any',\n",
       " 'online',\n",
       " 'shopping',\n",
       " 'related',\n",
       " 'assistance,',\n",
       " 'reach',\n",
       " 'out',\n",
       " 'to',\n",
       " 'our',\n",
       " 'experts',\n",
       " 'between',\n",
       " '9',\n",
       " 'am',\n",
       " 'to',\n",
       " '9',\n",
       " 'pm',\n",
       " '(Monday',\n",
       " '–',\n",
       " 'Sunday)',\n",
       " '',\n",
       " 'Helpline',\n",
       " '1800-893-3399']"
      ]
     },
     "execution_count": 131,
     "metadata": {},
     "output_type": "execute_result"
    }
   ],
   "source": [
    "re.split(myregex, text2)"
   ]
  },
  {
   "cell_type": "code",
   "execution_count": 132,
   "metadata": {},
   "outputs": [],
   "source": [
    "text4 = 'Our,experts are available for,your assistance'"
   ]
  },
  {
   "cell_type": "code",
   "execution_count": 133,
   "metadata": {},
   "outputs": [
    {
     "data": {
      "text/plain": [
       "['Our', 'experts are available for', 'your assistance']"
      ]
     },
     "execution_count": 133,
     "metadata": {},
     "output_type": "execute_result"
    }
   ],
   "source": [
    "text4.split(',')"
   ]
  },
  {
   "cell_type": "code",
   "execution_count": 134,
   "metadata": {},
   "outputs": [
    {
     "data": {
      "text/plain": [
       "['Our', 'experts are available for', 'your assistance']"
      ]
     },
     "execution_count": 134,
     "metadata": {},
     "output_type": "execute_result"
    }
   ],
   "source": [
    "myregex = re.compile(',')\n",
    "re.split(myregex, text4)"
   ]
  },
  {
   "cell_type": "markdown",
   "metadata": {},
   "source": [
    "##### A quick summary:\n",
    "Major functions that are avaialble in re:\n",
    "* Compile - Returns a RegEx pattern object.\n",
    "* Search - Returns a match object if there is a match found.\n",
    "* findall - Returns a list of all matches.\n",
    "* sub - Replaces one or more matches within the text.\n",
    "* split - Returns a list where the text has been split at every match.\n",
    "* Braces - (), {}, []\n",
    "* Special characters - |, ?, *, +, ^, $, .\n",
    "* Character classes\n",
    "* \\d - Any numeric digit from 0 to 9.\n",
    "* \\D - Any character that is not a numeric digit (from 0 to 9).\n",
    "* \\w - Any character which is an alphabet or numeric digit or underscore (_).\n",
    "* \\W - Any character which is not an alphabet or numeric digit or underscore (_).\n",
    "* \\s - Any space or tab space or newline.\n",
    "* \\S - Any character which is not a space or tab space or newline.\n",
    "* \\b - Word boundary. This matches the beginning and end of a word.\n",
    "\n",
    "* reference  https://regex101.com/"
   ]
  },
  {
   "cell_type": "code",
   "execution_count": 135,
   "metadata": {},
   "outputs": [
    {
     "name": "stdout",
     "output_type": "stream",
     "text": [
      "['JioCare\\n\\nOur experts are available for your assistance 24x7 (Monday - Sunday) \\n\\nInterested in Jio', ' Talk to us on\\t1860-893-3333\\nFor recharge plans', ' data balance', ' validity', ' recharge confirmation ', ' offers\\t1991\\nFor Queries\\t199\\nFor Complaints\\t198\\nFor Other numbers\\t1800-889-9999\\nTele-verification to activate both HD voice ', ' data services\\t1977\\nTele-verification to activate data services only\\t1800-890-1977\\nFor support on International Roaming\\n(accessible only when roaming abroad) ', '917018899999 (charges applicable)\\nDevice Care Helpline (JioPhone', ' LYF Mobile ', ' JioFi)\\n\\nOur experts are available for your assistance on all Days', ' from 9am to 9pm\\n\\nHelpline 1800-890-9999\\nJio Enterprise Mobility ', ' Business Solutions\\n\\nOur experts are available for your assistance 24x7 (Monday - Sunday)\\n\\nEnterprise Mobility Services 1800-889-9333\\nEnterprise Connectivity Services ', ' Business Solutions\\t1800-889-9444\\nNew Business Connection\\t1800-889-9555\\nCare Helpline for JioFiber Customers\\n\\nOur experts are available for your assistance 24X7 (Monday ', ' Sunday)\\n\\nHelpline 1800-896-9999\\nOnline shopping\\n\\nFor any online shopping related assistance', ' reach out to our experts between 9 am to 9 pm (Monday ', ' Sunday)\\n\\nHelpline 1800-893-3399']\n"
     ]
    }
   ],
   "source": [
    "myregex = re.compile('[a-z0-9()\\s-]+', re.I)\n",
    "print(myregex.findall(text2))"
   ]
  },
  {
   "cell_type": "code",
   "execution_count": 136,
   "metadata": {},
   "outputs": [
    {
     "data": {
      "text/plain": [
       "['Jio',\n",
       " 'Jio',\n",
       " 'tio',\n",
       " 'tio',\n",
       " 'tio',\n",
       " 'tio',\n",
       " 'Jio',\n",
       " 'Jio',\n",
       " 'Jio',\n",
       " 'tio',\n",
       " 'tio',\n",
       " 'tio',\n",
       " 'Jio']"
      ]
     },
     "execution_count": 136,
     "metadata": {},
     "output_type": "execute_result"
    }
   ],
   "source": [
    "myregex = re.compile('.io')\n",
    "myregex.findall(text2)"
   ]
  },
  {
   "cell_type": "code",
   "execution_count": 137,
   "metadata": {},
   "outputs": [
    {
     "data": {
      "text/plain": [
       "['confirmation', 'verification', 'verification', 'Connection']"
      ]
     },
     "execution_count": 137,
     "metadata": {},
     "output_type": "execute_result"
    }
   ],
   "source": [
    "myregex = re.compile(r'\\b\\w+tion\\b')\n",
    "myregex.findall(text2)"
   ]
  },
  {
   "cell_type": "code",
   "execution_count": 138,
   "metadata": {},
   "outputs": [
    {
     "data": {
      "text/plain": [
       "'JioCare\\n\\nOur experts are available for your assistance 24x7 (Monday - Sunday) \\n\\nInterested in Jio? Talk to us on\\t1860-893-3333\\nFor recharge plans, data balance, validity, recharge ++++ & offers\\t1991\\nFor Queries\\t199\\nFor Complaints\\t198\\nFor Other numbers\\t1800-889-9999\\nTele-++++ to activate both HD voice & data services\\t1977\\nTele-++++ to activate data services only\\t1800-890-1977\\nFor support on International Roaming\\n(accessible only when roaming abroad) +917018899999 (charges applicable)\\nDevice Care Helpline (JioPhone, LYF Mobile & JioFi)\\n\\nOur experts are available for your assistance on all Days, from 9am to 9pm\\n\\nHelpline 1800-890-9999\\nJio Enterprise Mobility & Business Solutions\\n\\nOur experts are available for your assistance 24x7 (Monday - Sunday)\\n\\nEnterprise Mobility Services 1800-889-9333\\nEnterprise Connectivity Services & Business Solutions\\t1800-889-9444\\nNew Business ++++\\t1800-889-9555\\nCare Helpline for JioFiber Customers\\n\\nOur experts are available for your assistance 24X7 (Monday – Sunday)\\n\\nHelpline 1800-896-9999\\nOnline shopping\\n\\nFor any online shopping related assistance, reach out to our experts between 9 am to 9 pm (Monday – Sunday)\\n\\nHelpline 1800-893-3399'"
      ]
     },
     "execution_count": 138,
     "metadata": {},
     "output_type": "execute_result"
    }
   ],
   "source": [
    "myregex.sub('++++', text2)"
   ]
  },
  {
   "cell_type": "code",
   "execution_count": 139,
   "metadata": {},
   "outputs": [],
   "source": [
    "text4 = 'Our,experts are available for,your assistance'"
   ]
  },
  {
   "cell_type": "code",
   "execution_count": 142,
   "metadata": {},
   "outputs": [
    {
     "data": {
      "text/plain": [
       "['Our', 'experts are available for', 'your assistance']"
      ]
     },
     "execution_count": 142,
     "metadata": {},
     "output_type": "execute_result"
    }
   ],
   "source": [
    "text4.split(',')"
   ]
  },
  {
   "cell_type": "code",
   "execution_count": 141,
   "metadata": {},
   "outputs": [
    {
     "data": {
      "text/plain": [
       "['Our', 'experts are available for', 'your assistance']"
      ]
     },
     "execution_count": 141,
     "metadata": {},
     "output_type": "execute_result"
    }
   ],
   "source": [
    "myregex = re.compile(',')\n",
    "re.split(myregex, text4)"
   ]
  },
  {
   "cell_type": "code",
   "execution_count": null,
   "metadata": {},
   "outputs": [],
   "source": []
  }
 ],
 "metadata": {
  "kernelspec": {
   "display_name": "Python 3",
   "language": "python",
   "name": "python3"
  },
  "language_info": {
   "codemirror_mode": {
    "name": "ipython",
    "version": 3
   },
   "file_extension": ".py",
   "mimetype": "text/x-python",
   "name": "python",
   "nbconvert_exporter": "python",
   "pygments_lexer": "ipython3",
   "version": "3.8.3"
  }
 },
 "nbformat": 4,
 "nbformat_minor": 4
}
